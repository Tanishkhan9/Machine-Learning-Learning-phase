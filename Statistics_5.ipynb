{
  "nbformat": 4,
  "nbformat_minor": 0,
  "metadata": {
    "colab": {
      "provenance": []
    },
    "kernelspec": {
      "name": "python3",
      "display_name": "Python 3"
    },
    "language_info": {
      "name": "python"
    }
  },
  "cells": [
    {
      "cell_type": "markdown",
      "source": [
        "# Covariance and Correlation :\n",
        "\n",
        "Covariance and correlation are the two key concepts in Statistics that help us analyze the relationship between two variables. Covariance measures how two variables change together, indicating whether they move in the same or opposite directions.\n",
        "\n",
        "To understand this relationship better, consider factors like sunlight, water and soil nutrients (as shown in the image), which are independent variables that influence plant growth our dependent variable. Covariance measures how these variables change together, indicating whether they move in the same or opposite directions."
      ],
      "metadata": {
        "id": "KhiY5b1pIUrt"
      }
    },
    {
      "cell_type": "code",
      "execution_count": 2,
      "metadata": {
        "colab": {
          "base_uri": "https://localhost:8080/",
          "height": 339
        },
        "id": "TABw0lZkIHjd",
        "outputId": "4d4b81d6-93f5-4331-e788-f6d62d9c40a9"
      },
      "outputs": [
        {
          "output_type": "execute_result",
          "data": {
            "text/html": [
              "<img src=\"https://media.geeksforgeeks.org/wp-content/uploads/20250526174608247372/independent_variables.webp\" width=\"600\"/>"
            ],
            "text/plain": [
              "<IPython.core.display.Image object>"
            ]
          },
          "metadata": {},
          "execution_count": 2
        }
      ],
      "source": [
        "from IPython.display import Image\n",
        "url = \"https://media.geeksforgeeks.org/wp-content/uploads/20250526174608247372/independent_variables.webp\"\n",
        "Image(url=url, width=600)  # adjust width as needed\n"
      ]
    },
    {
      "cell_type": "markdown",
      "source": [
        "# What is Covariance?\n",
        "\n",
        "Covariance is a statistical which measures the relationship between a pair of random variables where a change in one variable causes a change in another variable. It assesses how much two variables change together from their mean values. Covariance is calculated by taking the average of the product of the deviations of each variable from their respective means. Covariance helps us understand the direction of the relationship but not how strong it is because the number depends on the units used. It’s an important tool to see how two things are connected.\n",
        "\n",
        "It can take any value between - infinity to +infinity, where the negative value represents the negative relationship whereas a positive value represents the positive relationship.\n",
        "\n",
        "It is used for the linear relationship between variables.\n",
        "\n",
        "It gives the direction of relationship between variables."
      ],
      "metadata": {
        "id": "yLHQDBwCI3-H"
      }
    },
    {
      "cell_type": "markdown",
      "source": [
        "# Covariance Formula\n",
        "\n",
        "**1. Sample Covariance**\n",
        "\n",
        "$$\n",
        "\\text{Cov}_s(X, Y) = \\frac{1}{n - 1} \\sum_{i=1}^{n} (X_i - \\bar{X})(Y_i - \\bar{Y})\n",
        "$$\n",
        "\n",
        "**Where:**\n",
        "\n",
        "- $X_i$: The $i^{th}$ value of the variable $X$ in the sample.  \n",
        "- $Y_i$: The $i^{th}$ value of the variable $Y$ in the sample.  \n",
        "- $\\bar{X}$: The sample mean of variable $X$ (average of all $X_i$ values).  \n",
        "- $\\bar{Y}$: The sample mean of variable $Y$ (average of all $Y_i$ values).  \n",
        "- $n$: The number of data points in the sample.  \n",
        "- $\\sum$: The summation symbol, meaning we sum the products of the deviations for all the data points.  \n",
        "- $n - 1$: The degrees of freedom. When working with a sample, we divide by $n - 1$ to correct for bias (Bessel’s correction).  \n",
        "\n",
        "**2. Population Covariance**\n",
        "\n",
        "$$\n",
        "\\text{Cov}_p(X, Y) = \\frac{1}{n} \\sum_{i=1}^{n} (X_i - \\mu_X)(Y_i - \\mu_Y)\n",
        "$$\n",
        "\n",
        "**Where:**\n",
        "\n",
        "- $X_i$: The $i^{th}$ value of the variable $X$ in the population.  \n",
        "- $Y_i$: The $i^{th}$ value of the variable $Y$ in the population.  \n",
        "- $\\mu_X$: The population mean of variable $X$ (average of all $X_i$ values in the population).  \n",
        "- $\\mu_Y$: The population mean of variable $Y$ (average of all $Y_i$ values in the population).  \n",
        "- $n$: The total number of data points in the population.  \n",
        "- $\\sum$: The summation symbol, meaning we sum the products of the deviations for all the data points.  \n",
        "- Note: For population covariance, we divide by $n$ (no Bessel’s correction, since the full population is used).  \n",
        "\n",
        "\n",
        "# Types of Covariance:\n",
        "\n",
        "1. Positive Covariance: When one variable increases, the other variable tends to increase as well and vice versa.\n",
        "\n",
        "2. Negative Covariance: When one variable increases, the other variable tends to decrease.\n",
        "\n",
        "3. Zero Covariance: There is no linear relationship between the two variables; they move independently of each other."
      ],
      "metadata": {
        "id": "tNE4KLIAJcl9"
      }
    },
    {
      "cell_type": "code",
      "source": [
        "from IPython.display import Image\n",
        "url = \"https://media.geeksforgeeks.org/wp-content/uploads/Covar.png\"\n",
        "Image(url=url, width=600)  # adjust width as needed\n"
      ],
      "metadata": {
        "colab": {
          "base_uri": "https://localhost:8080/",
          "height": 353
        },
        "id": "f9XLTR-nLBWO",
        "outputId": "4c3928bc-1630-4e03-ffd5-02112774a4bc"
      },
      "execution_count": 3,
      "outputs": [
        {
          "output_type": "execute_result",
          "data": {
            "text/html": [
              "<img src=\"https://media.geeksforgeeks.org/wp-content/uploads/Covar.png\" width=\"600\"/>"
            ],
            "text/plain": [
              "<IPython.core.display.Image object>"
            ]
          },
          "metadata": {},
          "execution_count": 3
        }
      ]
    },
    {
      "cell_type": "markdown",
      "source": [
        "#What is Correlation?\n",
        "\n",
        "Correlation is a standardized measure of the strength and direction of the linear relationship between two variables. It is derived from covariance and ranges between -1 and 1. Unlike covariance, which only indicates the direction of the relationship, correlation provides a standardized measure.\n",
        "\n",
        "* Positive Correlation (close to +1): As one variable increases, the other variable also tends to increase.\n",
        "* Negative Correlation (close to -1): As one variable increases, the other variable tends to decrease.\n",
        "* Zero Correlation: There is no linear relationship between the variables.\n",
        "\n",
        "The correlation coefficient\n",
        "ρ (rho) for variables X and Y is defined as:\n",
        "\n",
        "1. Correlation takes values between -1 to +1, wherein values close to +1 represents strong positive correlation and values close to -1 represents strong negative correlation.\n",
        "2. In this variable are indirectly related to each other.\n",
        "3. It gives the direction and strength of relationship between variables."
      ],
      "metadata": {
        "id": "dojUlHg3LGKG"
      }
    },
    {
      "cell_type": "code",
      "source": [
        "from IPython.display import Image\n",
        "url = \"https://media.geeksforgeeks.org/wp-content/uploads/Corre.png\"\n",
        "Image(url=url, width=600)  # adjust width as needed\n"
      ],
      "metadata": {
        "colab": {
          "base_uri": "https://localhost:8080/",
          "height": 189
        },
        "id": "LQ4c3txaLejJ",
        "outputId": "849cf00d-2838-404a-a2f5-8b1a245da554"
      },
      "execution_count": 4,
      "outputs": [
        {
          "output_type": "execute_result",
          "data": {
            "text/html": [
              "<img src=\"https://media.geeksforgeeks.org/wp-content/uploads/Corre.png\" width=\"600\"/>"
            ],
            "text/plain": [
              "<IPython.core.display.Image object>"
            ]
          },
          "metadata": {},
          "execution_count": 4
        }
      ]
    },
    {
      "cell_type": "markdown",
      "source": [
        "**Definitions:**\n",
        "\n",
        "- $x'$ and $y'$ = mean of the given sample set  \n",
        "- $n$ = total number of samples  \n",
        "- $x_i$ and $y_i$ = individual sample values of the set  \n"
      ],
      "metadata": {
        "id": "CyjWKc_PLjEv"
      }
    },
    {
      "cell_type": "code",
      "source": [
        "from IPython.display import Image\n",
        "url = \"https://media.geeksforgeeks.org/wp-content/uploads/Correl.png\"\n",
        "Image(url=url, width=600)  # adjust width as needed\n"
      ],
      "metadata": {
        "colab": {
          "base_uri": "https://localhost:8080/",
          "height": 392
        },
        "id": "DXCQJ-pmLjrl",
        "outputId": "159e0cf3-b583-4d4c-97cb-da87e2a6c6c1"
      },
      "execution_count": 5,
      "outputs": [
        {
          "output_type": "execute_result",
          "data": {
            "text/html": [
              "<img src=\"https://media.geeksforgeeks.org/wp-content/uploads/Correl.png\" width=\"600\"/>"
            ],
            "text/plain": [
              "<IPython.core.display.Image object>"
            ]
          },
          "metadata": {},
          "execution_count": 5
        }
      ]
    },
    {
      "cell_type": "markdown",
      "source": [
        "# Difference between Covariance and Correlation\n",
        "This table shows the difference between Covariance and Covariance:\n",
        "\n",
        "\n",
        "| **Covariance** | **Correlation** |\n",
        "|----------------|-----------------|\n",
        "| Covariance is a measure of how much two random variables vary together | Correlation is a statistical measure that indicates how strongly two variables are related. |\n",
        "| Involves the relationship between two variables or data sets | Involves the relationship between multiple variables as well |\n",
        "| Lies between $-\\infty$ and $+\\infty$ | Lies between $-1$ and $+1$ |\n",
        "| Measure of correlation | Scaled version of covariance |\n",
        "| Provides direction of relationship | Provides direction **and** strength of relationship |\n",
        "| Dependent on the scale of variables | Independent of the scale of variables |\n",
        "| Has dimensions | Dimensionless |\n"
      ],
      "metadata": {
        "id": "_mlHAPpTLxAE"
      }
    },
    {
      "cell_type": "markdown",
      "source": [
        "They key difference is that Covariance shows the direction of the relationship between variables, while correlation shows both the direction and strength in a standardized form."
      ],
      "metadata": {
        "id": "cHbITkEML_CX"
      }
    },
    {
      "cell_type": "markdown",
      "source": [
        "# Applications of Covariance and Correlation\n",
        "\n",
        "**Applications of Covariance**\n",
        "\n",
        "* Portfolio Management in Finance: Covariance is used to measure how different stocks or financial assets move together, aiding in portfolio diversification to minimize risk.\n",
        "\n",
        "* Genetics: In genetics, covariance can help understand the relationship between different genetic traits and how they vary together.\n",
        "\n",
        "* Econometrics: Covariance is employed to study the relationship between different economic indicators, such as the relationship between GDP growth and inflation rates.\n",
        "\n",
        "* Signal Processing: Covariance is used to analyze and filter signals in various forms, including audio and image signals.\n",
        "\n",
        "* Environmental Science: Covariance is applied to study relationships between environmental variables, such as temperature and humidity changes over time.\n",
        "\n",
        "# Applications of Correlation\n",
        "\n",
        "* Market Research: Correlation is used to identify relationships between consumer behavior and sales trends, helping businesses make informed marketing decisions.\n",
        "\n",
        "* Medical Research: Correlation helps in understanding the relationship between different health indicators, such as the correlation between blood pressure and cholesterol levels.\n",
        "\n",
        "* Weather Forecasting: Correlation is used to analyze the relationship between various meteorological variables, such as temperature and humidity, to improve weather predictions.\n",
        "\n",
        "* Machine Learning: Correlation analysis is used in feature selection to identify which variables have strong relationships with the target variable, improving model accuracy."
      ],
      "metadata": {
        "id": "pcg4Bp2qMB8O"
      }
    }
  ]
}