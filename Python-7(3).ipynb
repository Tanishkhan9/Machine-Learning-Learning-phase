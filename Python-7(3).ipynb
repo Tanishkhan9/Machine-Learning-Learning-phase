{
  "nbformat": 4,
  "nbformat_minor": 0,
  "metadata": {
    "colab": {
      "provenance": []
    },
    "kernelspec": {
      "name": "python3",
      "display_name": "Python 3"
    },
    "language_info": {
      "name": "python"
    }
  },
  "cells": [
    {
      "cell_type": "markdown",
      "source": [],
      "metadata": {
        "id": "-Yk8SZ2Jwn_K"
      }
    },
    {
      "cell_type": "code",
      "execution_count": null,
      "metadata": {
        "id": "GFmT70ctwCwn"
      },
      "outputs": [],
      "source": [
        "\"\"\"\n",
        "Memory Management in Python\n",
        "\n",
        "Memory management refers to process of allocating and deallocating memory to a program while it runs. Python handles memory management automatically using mechanisms like reference counting and garbage collection, which means programmers do not have to manually manage memory.\n",
        "\n",
        "Let's explore how Python automatically manages memory using garbage collection and reference counting.\n",
        "\n",
        "Garbage Collection\n",
        "It is a process in which Python automatically frees memory occupied by objects that are no longer in use.\n",
        "\n",
        "If an object has no references pointing to it (i.e., nothing is using it), garbage collector removes it from memory.\n",
        "This ensures that unused memory can be reused for new objects.\n",
        "\"\"\""
      ]
    },
    {
      "cell_type": "markdown",
      "source": [
        "Reference Counting\n",
        "\n",
        "It is one of the primary memory management techniques used in Python, where:\n",
        "\n",
        "Every object keeps a reference counter, which tells how many variables (or references) are currently pointing to that object.\n",
        "\n",
        "When a new reference to the object is created, counter increases.\n",
        "When a reference is deleted or goes out of scope, counter decreases.\n",
        "If the counter reaches zero, it means no variable is using the object anymore, so Python automatically deallocates (frees) that memory.\n",
        "\n",
        "Example:"
      ],
      "metadata": {
        "id": "x9EPBuo9xIqk"
      }
    },
    {
      "cell_type": "code",
      "source": [
        "a = [1, 2, 3]\n",
        "b = a\n",
        "\n",
        "print(id(a), id(b))   # Same ID → both point to same list\n",
        "\n",
        "b.append(4)\n",
        "print(a)\n",
        "print(b)\n",
        "\n",
        "\"\"\"\n",
        "Explanation:\n",
        "\n",
        "a and b both refer to same list in memory.\n",
        "Changing b also changes a, because both share same reference.\n",
        "\"\"\""
      ],
      "metadata": {
        "colab": {
          "base_uri": "https://localhost:8080/"
        },
        "id": "KlBo6hlqxIIJ",
        "outputId": "bfda9c32-eeff-40ee-d954-59321eaa8cc5"
      },
      "execution_count": 3,
      "outputs": [
        {
          "output_type": "stream",
          "name": "stdout",
          "text": [
            "135343447166720 135343447166720\n",
            "[1, 2, 3, 4]\n",
            "[1, 2, 3, 4]\n",
            "[1, 2, 3, 4, 1, 2, 3, 4]\n"
          ]
        }
      ]
    },
    {
      "cell_type": "markdown",
      "source": [
        "Memory Allocation in Python:\n",
        "\n",
        "It is the process of reserving space in a computer’s memory so that a program can store its data and variables while it runs. In Python, this process is handled automatically by interpreter, but the way objects are stored and reused can make a big difference in performance.\n",
        "\n",
        "Let's see an example to understand it better.\n",
        "\n",
        "Example:\n",
        "\n",
        "Memory Optimization with Small Integers ->\n",
        "\n",
        "Python applies an internal optimization called object interning for small immutable objects (like integers from -5 to 256 and some strings). Instead of creating a new object every time, Python reuses same object to save memory.\n",
        "\n",
        "Suppose:x = 10 y = 10"
      ],
      "metadata": {
        "id": "_fWNuasLyKw1"
      }
    },
    {
      "cell_type": "code",
      "source": [
        "\"\"\"Here, Python does not create two separate objects for 10. Instead, both x and y point to the same memory location. Let's verify if it's true:\"\"\"\n",
        "\n",
        "x=10\n",
        "y=x\n",
        "print(id(x))\n",
        "print(id(y))"
      ],
      "metadata": {
        "colab": {
          "base_uri": "https://localhost:8080/"
        },
        "id": "qG1S8BNHynDY",
        "outputId": "878cb1d2-02b9-4698-adaa-741e0f0104f3"
      },
      "execution_count": 6,
      "outputs": [
        {
          "output_type": "stream",
          "name": "stdout",
          "text": [
            "11642376\n",
            "11642376\n"
          ]
        }
      ]
    },
    {
      "cell_type": "code",
      "source": [
        "\"\"\"Now, if we change x to a different integer:\"\"\"\n",
        "\n",
        "x=10\n",
        "y=x\n",
        "x+=1\n",
        "if id(x)==id(y):\n",
        "  print(\"same id \")\n",
        "else:\n",
        "  print(\"they dont' have similar id\")\n",
        "  print(id(x))\n",
        "  print(id(y))"
      ],
      "metadata": {
        "colab": {
          "base_uri": "https://localhost:8080/"
        },
        "id": "vq7zcaTbzBWh",
        "outputId": "72012f02-d7e7-4616-bee7-70f15cacb4ac"
      },
      "execution_count": 8,
      "outputs": [
        {
          "output_type": "stream",
          "name": "stdout",
          "text": [
            "they dont' have similar id\n",
            "11642408\n",
            "11642376\n"
          ]
        }
      ]
    },
    {
      "cell_type": "markdown",
      "source": [
        "In Python, memory is divided mainly into two parts:\n",
        "\n",
        "\n",
        "Stack Memory\n",
        "Heap Memory\n",
        "\n",
        "Both play different roles in how variables and objects are stored and accessed.\n",
        "\n",
        "Stack Memory:\n",
        "\n",
        "Stack memory is where method/function calls and reference variables are stored.\n",
        "\n",
        "Whenever a function is called, Python adds it to the call stack.\n",
        "Inside this function, all variables declared (like numbers, strings or temporary references) are stored in stack memory.\n",
        "Once the function finishes executing, stack memory used by it is automatically freed.\n",
        "\n",
        "In simple terms:\n",
        "\n",
        "Stack memory is temporary and is only alive until the function or method call is running.\n",
        "\n",
        "How it Works:\n",
        "\n",
        "Allocation happens in a contiguous (continuous) block of memory.\n",
        "Python’s compiler handles this automatically, so developers don’t need to manage it.\n",
        "\n",
        "It is fast, but it is limited in size and scope (only works within a function call).\n",
        "\n",
        "\n",
        "Example:"
      ],
      "metadata": {
        "id": "Jp5qTCcGzzs5"
      }
    },
    {
      "cell_type": "code",
      "source": [
        "def func():\n",
        "    # These variables are created in stack memory\n",
        "    a = 20\n",
        "    b = []\n",
        "    c = \"\"\n",
        "\n",
        "    \"\"\"\n",
        "    Here a, b and c are stored in stack memory when function func() is called. As soon as function ends, this memory is released automatically.\n",
        "    \"\"\""
      ],
      "metadata": {
        "id": "v1y-ePNyz-6K"
      },
      "execution_count": null,
      "outputs": []
    },
    {
      "cell_type": "markdown",
      "source": [
        "Heap Memory:\n",
        "\n",
        "Heap memory is where actual objects and values are stored.\n",
        "\n",
        "When a variable is created, Python allocates its object/value in heap memory.\n",
        "\n",
        "Stack memory stores only the reference (pointer) to this object.\n",
        "\n",
        "Objects in heap memory can be shared among multiple functions or exist even after a function has finished executing.\n",
        "\n",
        "In simple terms:\n",
        "\n",
        "  Heap memory is like a storage area where all values/objects live and stack memory just keeps directions (references) to them.\n",
        "\n",
        "\n",
        "How it Works:\n",
        "\n",
        "\n",
        "Heap memory allocation happens at runtime.\n",
        "\n",
        "Unlike stack, it does not follow a strict order it’s more flexible.\n",
        "\n",
        "This is where large data structures (lists, dictionaries, objects) are stored.\n",
        "\n",
        "Garbage collection is responsible for cleaning up unused objects from heap memory.\n",
        "\n",
        "Example:"
      ],
      "metadata": {
        "id": "Jip2HtrL0v11"
      }
    },
    {
      "cell_type": "code",
      "source": [
        "# This list of 10 integers is allocated in heap memory\n",
        "a = [0] * 10\n",
        "\n",
        "\n",
        "\n",
        "#Explanation: Here, list [0, 0, 0, 0, 0, 0, 0, 0, 0, 0] is stored in heap memory. The variable a in stack memory just holds a reference pointing to this list in the heap.\n"
      ],
      "metadata": {
        "id": "8RqC8ys01Ogg"
      },
      "execution_count": 13,
      "outputs": []
    }
  ]
}
