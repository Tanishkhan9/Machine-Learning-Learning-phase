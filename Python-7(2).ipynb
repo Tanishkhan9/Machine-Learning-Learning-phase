{
  "nbformat": 4,
  "nbformat_minor": 0,
  "metadata": {
    "colab": {
      "provenance": []
    },
    "kernelspec": {
      "name": "python3",
      "display_name": "Python 3"
    },
    "language_info": {
      "name": "python"
    }
  },
  "cells": [
    {
      "cell_type": "markdown",
      "source": [
        "File handling:\n",
        " refers to the process of performing operations on a file, such as creating, opening, reading, writing and closing it through a programming interface. It involves managing the data flow between the program and the file system on the storage device, ensuring that data is handled safely and efficiently.\n",
        "\n",
        "Why do we need File Handling:\n",
        "\n",
        "To store data permanently, even after the program ends.\n",
        "\n",
        "To access external files like .txt, .csv, .json, etc.\n",
        "\n",
        "To process large files efficiently without using much memory.\n",
        "\n",
        "To automate tasks like reading configs or saving outputs.\n",
        "\n",
        "To handle input/output in real-world applications and tools.\n",
        "\n",
        "Opening a File in Python:\n",
        "\n",
        "To open a file, we can use open() function, which requires file-path and mode as arguments:\n",
        "\n",
        "Syntax:\n",
        "\n",
        "file = open('filename.txt', 'mode')\n",
        "\n",
        "filename.txt: name (or path) of the file to be opened.\n",
        "\n",
        "mode: mode in which you want to open the file (read, write, append, etc.)."
      ],
      "metadata": {
        "id": "3fqWwOeEpzJq"
      }
    },
    {
      "cell_type": "code",
      "source": [
        "f = open(\"code.txt\", \"r\")\n",
        "print(f)"
      ],
      "metadata": {
        "id": "AA7MyyUHpyKT"
      },
      "execution_count": null,
      "outputs": []
    },
    {
      "cell_type": "markdown",
      "source": [
        "This code opens the file demo.txt in read mode. If the file exists, it connects successfully, otherwise, it throws an error.\n",
        "\n",
        "\n",
        "Closing a File\n",
        "\n",
        "It's important to close the file after you're done using it. file.close() method closes the file and releases the system resources ensuring that changes are saved properly (in case of writing)"
      ],
      "metadata": {
        "id": "JgjYubyiqcS9"
      }
    },
    {
      "cell_type": "code",
      "source": [
        "f = open(\"code.txt\", \"r\")\n",
        "\n",
        "print(\"Filename:\", f.name)\n",
        "print(\"Mode:\", f.mode)\n",
        "print(\"Is Closed?\", f.closed)\n",
        "\n",
        "f.close()\n",
        "print(\"Is Closed?\", f.closed)\n",
        "\n",
        "\"\"\"\n",
        "Explanation:\n",
        "\n",
        "f.name:     Returns the name of the file that was opened (in this case, \"demo.txt\").\n",
        "f.mode:     Tells us the mode in which the file was opened. Here, it’s 'r' which means read mode.\n",
        "f.closed:   Returns a boolean value- Fasle when file is currently open otherwise True.\n",
        "\n",
        "\"\"\""
      ],
      "metadata": {
        "id": "LxdmrP7apyG7"
      },
      "execution_count": null,
      "outputs": []
    },
    {
      "cell_type": "markdown",
      "source": [
        "Reading a File:\n",
        "\n",
        "Reading a file can be achieved by file.read() which reads the entire content of the file. After reading the file we can close the file using file.close() which closes the file after reading it, which is necessary to free up system resources.\n",
        "\n",
        "\n",
        "Example: Reading a File in Read Mode (r)"
      ],
      "metadata": {
        "id": "coPjZneEpxc5"
      }
    },
    {
      "cell_type": "code",
      "execution_count": null,
      "metadata": {
        "id": "jYBx9Ecypwet"
      },
      "outputs": [],
      "source": [
        "file = open(\"code.txt\", \"r\")\n",
        "content = file.read()\n",
        "print(content)\n",
        "file.close()"
      ]
    },
    {
      "cell_type": "markdown",
      "source": [
        "Using with Statement\n",
        "\n",
        "Instead of manually opening and closing the file, you can use the with statement, which automatically handles closing. This reduces the risk of file corruption and resource leakage.\n",
        "\n",
        "Example: Let's assume we have a file named code.txt that contains text \"Hello, World!\"."
      ],
      "metadata": {
        "id": "odiSVrWyrlVi"
      }
    },
    {
      "cell_type": "code",
      "source": [
        "with open(\"code.txt\",\"r\"):\n",
        "  content=file.read()\n",
        "  print(content)"
      ],
      "metadata": {
        "id": "sm8ZB_aWroa1"
      },
      "execution_count": null,
      "outputs": []
    },
    {
      "cell_type": "markdown",
      "source": [
        "Handling Exceptions When Closing a File:\n",
        "\n",
        "It's important to handle exceptions to ensure that files are closed properly, even if an error occurs during file operations.\n",
        "\n",
        "\n",
        "\n",
        "\n"
      ],
      "metadata": {
        "id": "AfeacMzSr4Ny"
      }
    },
    {
      "cell_type": "code",
      "source": [
        "try:\n",
        "  file=open(\"code.txt\",\"r\")\n",
        "  content=file.read()\n",
        "  print(content)\n",
        "except FileNotFoundError:\n",
        "  print(\"file not found\")\n",
        "finally:\n",
        "  file.close()"
      ],
      "metadata": {
        "colab": {
          "base_uri": "https://localhost:8080/"
        },
        "id": "pmXfFGO1r9Ly",
        "outputId": "b7b324dc-dffa-4b44-b563-ef12a54bcae0"
      },
      "execution_count": 4,
      "outputs": [
        {
          "output_type": "stream",
          "name": "stdout",
          "text": [
            "file not found\n"
          ]
        }
      ]
    },
    {
      "cell_type": "markdown",
      "source": [
        "Explanation:\n",
        "\n",
        "try: Starts the block to handle code that might raise an error.\n",
        "\n",
        "open(): Opens the file in read mode.\n",
        "\n",
        "read(): Reads the content of the file.\n",
        "\n",
        "finally: Ensures the code inside it runs no matter what.\n",
        "\n",
        "close(): Safely closes the file to free resources.\n"
      ],
      "metadata": {
        "id": "d2H2pWttsqNu"
      }
    }
  ]
}