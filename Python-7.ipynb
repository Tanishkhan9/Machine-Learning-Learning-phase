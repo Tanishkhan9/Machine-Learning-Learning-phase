{
  "nbformat": 4,
  "nbformat_minor": 0,
  "metadata": {
    "colab": {
      "provenance": []
    },
    "kernelspec": {
      "name": "python3",
      "display_name": "Python 3"
    },
    "language_info": {
      "name": "python"
    }
  },
  "cells": [
    {
      "cell_type": "markdown",
      "source": [
        "Python Exception Handling :\n",
        "\n",
        "Python Exception Handling handles errors that occur during the execution of a program.\n",
        "Exception handling allows to respond to the error, instead of crashing the running program.\n",
        "It enables you to catch and manage errors, making your code more robust and user-friendly.\n",
        "\n",
        " Let's look at an example:"
      ],
      "metadata": {
        "id": "b1e3LuzxbCU-"
      }
    },
    {
      "cell_type": "code",
      "execution_count": 1,
      "metadata": {
        "colab": {
          "base_uri": "https://localhost:8080/"
        },
        "id": "wnEDhFWjat1X",
        "outputId": "845a0642-5a52-4291-aa60-b08bba4c9174"
      },
      "outputs": [
        {
          "output_type": "stream",
          "name": "stdout",
          "text": [
            "Can't be divided by zero!\n"
          ]
        }
      ],
      "source": [
        "# Simple Exception Handling Example\n",
        "n = 10\n",
        "try:\n",
        "    res = n / 0  # This will raise a ZeroDivisionError\n",
        "\n",
        "except ZeroDivisionError:\n",
        "    print(\"Can't be divided by zero!\")"
      ]
    },
    {
      "cell_type": "markdown",
      "source": [
        "Difference Between Exception and Error\n",
        "\n",
        "Error: Errors are serious issues that a program should not try to handle. They are usually problems in the code's logic or configuration and need to be fixed by the programmer. Examples include syntax errors and memory errors.\n",
        "\n",
        "Exception: Exceptions are less severe than errors and can be handled by the program. They occur due to situations like invalid input, missing files or network issues."
      ],
      "metadata": {
        "id": "TvyaJN9-bJEI"
      }
    },
    {
      "cell_type": "code",
      "source": [
        "# Syntax Error (Error)\n",
        "print(\"Hello world\"  # Missing closing parenthesis\n",
        "\n",
        "# ZeroDivisionError (Exception)\n",
        "n = 10\n",
        "res = n / 0"
      ],
      "metadata": {
        "colab": {
          "base_uri": "https://localhost:8080/",
          "height": 110
        },
        "id": "5mH4vjyObMVu",
        "outputId": "e65f83b3-a9b2-4400-c452-278c65228aba"
      },
      "execution_count": 2,
      "outputs": [
        {
          "output_type": "error",
          "ename": "SyntaxError",
          "evalue": "'(' was never closed (ipython-input-2454959854.py, line 2)",
          "traceback": [
            "\u001b[0;36m  File \u001b[0;32m\"/tmp/ipython-input-2454959854.py\"\u001b[0;36m, line \u001b[0;32m2\u001b[0m\n\u001b[0;31m    print(\"Hello world\"  # Missing closing parenthesis\u001b[0m\n\u001b[0m         ^\u001b[0m\n\u001b[0;31mSyntaxError\u001b[0m\u001b[0;31m:\u001b[0m '(' was never closed\n"
          ]
        }
      ]
    },
    {
      "cell_type": "markdown",
      "source": [
        "Explanation: A syntax error is a coding mistake that prevents the code from running. In contrast, an exception like ZeroDivisionError can be managed during the program's execution using exception handling.\n"
      ],
      "metadata": {
        "id": "O-7DUjUabP-q"
      }
    },
    {
      "cell_type": "markdown",
      "source": [
        "Syntax and Usage:\n",
        "Exception handling in Python is done using the try, except, else and finally blocks.\n",
        "\n",
        "try:\n",
        "      # Code that might raise an exception\n",
        "\n",
        "except SomeException:\n",
        "      # Code to handle the exception\n",
        "\n",
        "else:\n",
        "     # Code to run if no exception occurs\n",
        "\n",
        "finally:\n",
        "    # Code to run regardless of whether an exception occurs"
      ],
      "metadata": {
        "id": "WOEAsFfPbS-g"
      }
    },
    {
      "cell_type": "code",
      "source": [
        "try:\n",
        "    n = 0\n",
        "    res = 100 / n\n",
        "\n",
        "except ZeroDivisionError:\n",
        "    print(\"You can't divide by zero!\")\n",
        "\n",
        "except ValueError:\n",
        "    print(\"Enter a valid number!\")\n",
        "\n",
        "else:\n",
        "    print(\"Result is\", res)\n",
        "\n",
        "finally:\n",
        "    print(\"Execution complete.\")"
      ],
      "metadata": {
        "colab": {
          "base_uri": "https://localhost:8080/"
        },
        "id": "p-HluHScbdXz",
        "outputId": "ffb7c958-8822-4b1c-c340-5586bc22d918"
      },
      "execution_count": 3,
      "outputs": [
        {
          "output_type": "stream",
          "name": "stdout",
          "text": [
            "You can't divide by zero!\n",
            "Execution complete.\n"
          ]
        }
      ]
    },
    {
      "cell_type": "markdown",
      "source": [
        "Python Catching Exceptions\n",
        "\n",
        "When working with exceptions in Python, we can handle errors more efficiently by specifying the types of exceptions we expect. This can make code both safer and easier to debug.\n",
        "\n",
        "Catching Specific Exceptions\n",
        "\n",
        "Catching specific exceptions makes code to respond to different exception types differently.\n",
        "\n",
        "Example:"
      ],
      "metadata": {
        "id": "VlLuW5iXbkok"
      }
    },
    {
      "cell_type": "code",
      "source": [
        "try:\n",
        "    x = int(\"str\")  # This will cause ValueError\n",
        "\n",
        "    #inverse\n",
        "    inv = 1 / x\n",
        "\n",
        "except ValueError:\n",
        "    print(\"Not Valid!\")\n",
        "\n",
        "except ZeroDivisionError:\n",
        "    print(\"Zero has no inverse!\")"
      ],
      "metadata": {
        "colab": {
          "base_uri": "https://localhost:8080/"
        },
        "id": "zBj1Rgu5bh4b",
        "outputId": "7cf5b7c5-b90a-4682-e0d5-04b922b6988b"
      },
      "execution_count": 4,
      "outputs": [
        {
          "output_type": "stream",
          "name": "stdout",
          "text": [
            "Not Valid!\n"
          ]
        }
      ]
    },
    {
      "cell_type": "markdown",
      "source": [
        "Explanation:\n",
        "\n",
        "The ValueError is caught because the string \"str\" cannot be converted to an integer.\n",
        "\n",
        "If x were 0 and conversion successful, the ZeroDivisionError would be caught when attempting to calculate its inverse.\n",
        "\n",
        "Catching Multiple Exceptions\n",
        "\n",
        "We can catch multiple exceptions in a single block if we need to handle them in the same way or we can separate them if different types of exceptions require different handling.\n",
        "\n",
        "Example:"
      ],
      "metadata": {
        "id": "8xLYSIvGbqWf"
      }
    },
    {
      "cell_type": "code",
      "source": [
        "a = [\"10\", \"twenty\", 30]  # Mixed list of integers and strings\n",
        "try:\n",
        "    total = int(a[0]) + int(a[1])  # 'twenty' cannot be converted to int\n",
        "\n",
        "except (ValueError, TypeError) as e:\n",
        "    print(\"Error\", e)\n",
        "\n",
        "except IndexError:\n",
        "    print(\"Index out of range.\")"
      ],
      "metadata": {
        "colab": {
          "base_uri": "https://localhost:8080/"
        },
        "id": "8VbmP8Jrbr5S",
        "outputId": "0f286646-36a6-4897-b4f4-2616ac30ad24"
      },
      "execution_count": 5,
      "outputs": [
        {
          "output_type": "stream",
          "name": "stdout",
          "text": [
            "Error invalid literal for int() with base 10: 'twenty'\n"
          ]
        }
      ]
    },
    {
      "cell_type": "markdown",
      "source": [
        "Catch-All Handlers and Their Risks\n",
        "Here's a simple calculation that may fail due to various reasons."
      ],
      "metadata": {
        "id": "oZEHOxrVbyng"
      }
    },
    {
      "cell_type": "code",
      "source": [
        "try:\n",
        "    # Simulate risky calculation: incorrect type operation\n",
        "    res = \"100\" / 20\n",
        "\n",
        "except TypeError:\n",
        "    print(\"Arithmetic problem.\")\n",
        "\n",
        "except:\n",
        "    print(\"Something went wrong!\")"
      ],
      "metadata": {
        "colab": {
          "base_uri": "https://localhost:8080/",
          "height": 110
        },
        "id": "nopEBQSYbxrK",
        "outputId": "8ae83a6b-e307-4e07-a9f6-68213b677d41"
      },
      "execution_count": 11,
      "outputs": [
        {
          "output_type": "error",
          "ename": "SyntaxError",
          "evalue": "invalid syntax (ipython-input-2315169083.py, line 5)",
          "traceback": [
            "\u001b[0;36m  File \u001b[0;32m\"/tmp/ipython-input-2315169083.py\"\u001b[0;36m, line \u001b[0;32m5\u001b[0m\n\u001b[0;31m    except if (TypeError & ArithmeticError):\u001b[0m\n\u001b[0m           ^\u001b[0m\n\u001b[0;31mSyntaxError\u001b[0m\u001b[0;31m:\u001b[0m invalid syntax\n"
          ]
        }
      ]
    },
    {
      "cell_type": "markdown",
      "source": [
        "Explanation:\n",
        "\n",
        "An ArithmeticError (more specific like ZeroDivisionError) might be caught if this were a number-to-number division error. However, TypeError is actually triggered here due to attempting to divide a string by a number.\n",
        "catch-all except: is used to catch the TypeError, demonstrating the risk that the programmer might not realize the actual cause of the error (type mismatch) without more detailed error logging."
      ],
      "metadata": {
        "id": "q170zGLfcSRQ"
      }
    },
    {
      "cell_type": "markdown",
      "source": [
        "Raise an Exception\n",
        "We raise an exception in Python using the raise keyword followed by an instance of the exception class that we want to trigger. We can choose from built-in exceptions or define our own custom exceptions by inheriting from Python's built-in Exception class.\n",
        "\n",
        "Basic Syntax:\n",
        "\n",
        "raise ExceptionType(\"Error message\")\n",
        "\n",
        "Example:"
      ],
      "metadata": {
        "id": "kkksc96xcxgJ"
      }
    },
    {
      "cell_type": "code",
      "source": [
        "def set(age):\n",
        "    if age < 0:\n",
        "        raise ValueError(\"Age cannot be negative.\")\n",
        "    print(f\"Age set to {age}\")\n",
        "\n",
        "try:\n",
        "    set(-5)\n",
        "except ValueError as e:\n",
        "    print(e)"
      ],
      "metadata": {
        "colab": {
          "base_uri": "https://localhost:8080/"
        },
        "id": "-6g3bPV-czqv",
        "outputId": "453fd66d-3b24-459f-fce1-fb29b85532cd"
      },
      "execution_count": 12,
      "outputs": [
        {
          "output_type": "stream",
          "name": "stdout",
          "text": [
            "Age cannot be negative.\n"
          ]
        }
      ]
    },
    {
      "cell_type": "code",
      "source": [
        "\"\"\"\n",
        "Advantages of Exception Handling:\n",
        "\n",
        "Improved program reliability: By handling exceptions properly, you can prevent your program from crashing or producing incorrect results due to unexpected errors or input.\n",
        "\n",
        "Simplified error handling: Exception handling allows you to separate error handling code from the main program logic, making it easier to read and maintain your code.\n",
        "\n",
        "Cleaner code: With exception handling, you can avoid using complex conditional statements to check for errors, leading to cleaner and more readable code.\n",
        "\n",
        "Easier debugging: When an exception is raised, the Python interpreter prints a traceback that shows the exact location where the exception occurred, making it easier to debug your code.\n",
        "\n",
        "\n",
        "\n",
        "Disadvantages of Exception Handling:\n",
        "\n",
        "Performance overhead: Exception handling can be slower than using conditional statements to check for errors, as the interpreter has to perform additional work to catch and handle the exception.\n",
        "\n",
        "Increased code complexity: Exception handling can make your code more complex, especially if you have to handle multiple types of exceptions or implement complex error handling logic.\n",
        "\n",
        "Possible security risks: Improperly handled exceptions can potentially reveal sensitive information or create security vulnerabilities in your code, so it's important to handle exceptions carefully and avoid exposing too much information about your program.\n",
        "\n",
        "\"\"\""
      ],
      "metadata": {
        "id": "wcge0oI3dXcx"
      },
      "execution_count": null,
      "outputs": []
    }
  ]
}