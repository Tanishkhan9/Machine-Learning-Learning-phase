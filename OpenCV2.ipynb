{
  "nbformat": 4,
  "nbformat_minor": 0,
  "metadata": {
    "colab": {
      "provenance": []
    },
    "kernelspec": {
      "name": "python3",
      "display_name": "Python 3"
    },
    "language_info": {
      "name": "python"
    }
  },
  "cells": [
    {
      "cell_type": "markdown",
      "source": [
        "To resize an image\n"
      ],
      "metadata": {
        "id": "U5UBiEmclYkS"
      }
    },
    {
      "cell_type": "code",
      "execution_count": null,
      "metadata": {
        "id": "nP1rXrEsgC0y"
      },
      "outputs": [],
      "source": [
        "import cv2  # Import the OpenCV library\n",
        "\n",
        "# Read the image from the specified file path\n",
        "image = cv2.imread(\"F:/project/tests/al.jpg\")\n",
        "\n",
        "# Check if the image was loaded successfully\n",
        "if image is None:\n",
        "    print(\"Image not found\")  # Print message if image is not found\n",
        "else:\n",
        "    print(\"Image loaded successfully\") # Print message if image is loaded\n",
        "\n",
        "# Resize the loaded image to 400x400 pixels\n",
        "new = cv2.resize(image, (400, 400))\n",
        "# Convert the resized image to grayscale\n",
        "gray = cv2.cvtColor(new, cv2.COLOR_BGR2GRAY)\n",
        "\n",
        "# Display the grayscale version of the resized image\n",
        "cv2.imshow(\"original image\", gray)\n",
        "# Display the resized color image\n",
        "cv2.imshow(\"Resized Image\", new)\n",
        "\n",
        "cv2.waitKey(0)  # Wait indefinitely until a key is pressed\n",
        "cv2.destroyAllWindows()  # Close all OpenCV display windows\n"
      ]
    },
    {
      "cell_type": "markdown",
      "source": [
        "to crop an image"
      ],
      "metadata": {
        "id": "A2c5Yaz4chXb"
      }
    },
    {
      "cell_type": "code",
      "source": [
        "import cv2  # Import the OpenCV library\n",
        "\n",
        "image_location = input(\"enter image location\")  # Get image path from user\n",
        "image = cv2.imread(image_location)  # Load the image from the specified path\n",
        "\n",
        "if image is not None:  # Check if the image was loaded successfully\n",
        "    # Crop the image: [startY:endY, startX:endX]\n",
        "    cropped = image[100:299, 100:399]\n",
        "\n",
        "    cv2.imshow(\"Cropped image\", cropped)  # Display the cropped image\n",
        "    cv2.imshow(\"Original Image\", image)  # Display the original image\n",
        "    cv2.waitKey(0)  # Wait indefinitely for a key press\n",
        "    cv2.destroyAllWindows()  # Close all OpenCV windows\n",
        "else:\n",
        "    print(\"Error\")  # Print error if image loading failed\n"
      ],
      "metadata": {
        "id": "KmNB68K2laYF"
      },
      "execution_count": null,
      "outputs": []
    },
    {
      "cell_type": "markdown",
      "source": [
        "to rotate an image\n"
      ],
      "metadata": {
        "id": "lguK0_LZcjlu"
      }
    },
    {
      "cell_type": "code",
      "source": [
        "import cv2  # Import OpenCV library\n",
        "\n",
        "image_location = input(\"enter image location\")  # Get image path from user\n",
        "image = cv2.imread(image_location)  # Load the image\n",
        "\n",
        "if image is not None:  # Check if image is loaded\n",
        "    print(\"Image is loaded successfully\")\n",
        "    (h, w) = image.shape[:2]  # Get height and width of the image\n",
        "    center = (w // 2, h // 2)  # Calculate the center of the image\n",
        "\n",
        "    # Create rotation matrix: rotate by 90 degrees and scale by 2.0\n",
        "    m = cv2.getRotationMatrix2D(center, 90, 2.0)\n",
        "\n",
        "    # Rotate the image using the rotation matrix\n",
        "    Rotated = cv2.warpAffine(image, m, (w, h))\n",
        "\n",
        "    cv2.imshow(\"Rotated Image\", Rotated)  # Show the rotated image\n",
        "    cv2.imshow(\"Original Image\", image)    # Show the original image\n",
        "    cv2.waitKey(0)  # Wait for any key press\n",
        "    cv2.destroyAllWindows()  # Close all windows\n"
      ],
      "metadata": {
        "id": "nQxRGlvPsqm0"
      },
      "execution_count": null,
      "outputs": []
    },
    {
      "cell_type": "markdown",
      "source": [
        "to flip the image\n"
      ],
      "metadata": {
        "id": "rfl-bLSNcmR-"
      }
    },
    {
      "cell_type": "code",
      "source": [
        "import cv2  # Import OpenCV library\n",
        "\n",
        "image_location = input(\"Enter the image location\")  # Get image path from user\n",
        "image = cv2.imread(image_location)  # Load image\n",
        "\n",
        "if image is not None:  # Check if image loaded successfully\n",
        "    print(\"Image is loaded successfully\")\n",
        "    fliped = cv2.flip(image, 1)  # Flip image horizontally\n",
        "\n",
        "    cv2.imshow(\"Rotated Image\", fliped)  # Display flipped image\n",
        "    cv2.imshow(\"Original Image\", image)  # Display original image\n",
        "    cv2.waitKey(0)  # Wait for any key press\n",
        "    cv2.destroyAllWindows()  # Close all windows\n"
      ],
      "metadata": {
        "id": "hk35I7MWZQCQ"
      },
      "execution_count": null,
      "outputs": []
    }
  ]
}