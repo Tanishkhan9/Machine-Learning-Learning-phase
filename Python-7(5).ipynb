{
  "nbformat": 4,
  "nbformat_minor": 0,
  "metadata": {
    "colab": {
      "provenance": []
    },
    "kernelspec": {
      "name": "python3",
      "display_name": "Python 3"
    },
    "language_info": {
      "name": "python"
    }
  },
  "cells": [
    {
      "cell_type": "markdown",
      "source": [
        "#Iterator's in Python"
      ],
      "metadata": {
        "id": "IG7AH_idW4cL"
      }
    },
    {
      "cell_type": "code",
      "execution_count": 1,
      "metadata": {
        "colab": {
          "base_uri": "https://localhost:8080/",
          "height": 108
        },
        "id": "0r_S0gQUTPuV",
        "outputId": "c66717a4-8d4c-4170-e34a-f53171ad8f45"
      },
      "outputs": [
        {
          "output_type": "execute_result",
          "data": {
            "text/plain": [
              "'\\nAn iterator in Python is an object used to traverse through all the elements of a collection (like lists, tuples, or dictionaries) one element at a time. It follows the iterator protocol, which involves two key methods:\\n\\n__iter__(): Returns the iterator object itself.\\n__next__(): Returns the next value from the sequence. Raises StopIteration when the sequence ends.\\nWhy do we need iterators in Python\\nLazy Evaluation : Processes items only when needed, saving memory.\\nGenerator Integration : Pairs well with generators and functional tools.\\nStateful Traversal : Remembers position between calls.\\nUniform Looping : Works across data types with the same syntax.\\nComposable Logic : Easily build complex pipelines using tools like itertools.\\n'"
            ],
            "application/vnd.google.colaboratory.intrinsic+json": {
              "type": "string"
            }
          },
          "metadata": {},
          "execution_count": 1
        }
      ],
      "source": [
        "\n",
        "\n",
        "\"\"\"\n",
        "An iterator in Python is an object used to traverse through all the elements of a collection (like lists, tuples, or dictionaries) one element at a time. It follows the iterator protocol, which involves two key methods:\n",
        "\n",
        "__iter__(): Returns the iterator object itself.\n",
        "__next__(): Returns the next value from the sequence. Raises StopIteration when the sequence ends.\n",
        "Why do we need iterators in Python\n",
        "Lazy Evaluation : Processes items only when needed, saving memory.\n",
        "Generator Integration : Pairs well with generators and functional tools.\n",
        "Stateful Traversal : Remembers position between calls.\n",
        "Uniform Looping : Works across data types with the same syntax.\n",
        "Composable Logic : Easily build complex pipelines using tools like itertools.\n",
        "\"\"\"\n"
      ]
    },
    {
      "cell_type": "code",
      "source": [
        "# Built-in Iterator Example\n",
        "s=\"Coding\"\n",
        "it=iter(s)\n",
        "\n",
        "print(next(it))\n",
        "print(next(it))\n",
        "print(next(it))\n",
        "print(next(it))\n",
        "print(next(it))\n",
        "print(next(it))"
      ],
      "metadata": {
        "colab": {
          "base_uri": "https://localhost:8080/"
        },
        "id": "DmsKjjn3ULch",
        "outputId": "912c08fa-7526-4333-cf76-b752f6ca22fa"
      },
      "execution_count": 2,
      "outputs": [
        {
          "output_type": "stream",
          "name": "stdout",
          "text": [
            "C\n",
            "o\n",
            "d\n",
            "i\n",
            "n\n",
            "g\n"
          ]
        }
      ]
    },
    {
      "cell_type": "markdown",
      "source": [
        "Creating an Custom Iterator:\n",
        "\n",
        "Creating a custom iterator in Python involves defining a class that implements the __iter__() and __next__() methods according to the Python iterator protocol.\n",
        "\n",
        "Steps to follow:->\n",
        "\n",
        "Define the Class: Start by defining a class that will act as the iterator.\n",
        "Initialize Attributes: In the __init__() method of the class, initialize any required attributes that will be used throughout the iteration process.\n",
        "Implement __iter__(): This method should return the iterator object itself. This is usually as simple as returning self.\n",
        "Implement __next__(): This method should provide the next item in the sequence each time it's called."
      ],
      "metadata": {
        "id": "jVFeM-NlU0X5"
      }
    },
    {
      "cell_type": "code",
      "source": [
        "class EvenNumbers:\n",
        "    def __iter__(self):\n",
        "        self.n = 2  # Start from the first even number\n",
        "        return self\n",
        "\n",
        "    def __next__(self):\n",
        "        x = self.n\n",
        "        self.n += 2  # Increment by 2 to get the next even number\n",
        "        return x\n",
        "\n",
        "# Create an instance of EvenNumbers\n",
        "even = EvenNumbers()\n",
        "it = iter(even)\n",
        "\n",
        "# Print the first five even numbers\n",
        "print(next(it))\n",
        "print(next(it))\n",
        "print(next(it))\n",
        "print(next(it))\n",
        "print(next(it))\n",
        "\n",
        "\n",
        "\n",
        "\"\"\"\n",
        "Explanation:\n",
        "\n",
        "Initialization: The __iter__() method initializes the iterator at 2, the first even number.\n",
        "Iteration: The __next__() method retrieves the current number and then increases it by 2, ensuring the next call returns the subsequent even number.\n",
        "Usage: We create an instance of EvenNumbers, turn it into an iterator and then use the next() function to fetch even numbers one at a time.\n",
        "\"\"\""
      ],
      "metadata": {
        "colab": {
          "base_uri": "https://localhost:8080/"
        },
        "id": "E46A01ePUzys",
        "outputId": "7b09aae5-806d-445d-9c72-83b064f7aff7"
      },
      "execution_count": 3,
      "outputs": [
        {
          "output_type": "stream",
          "name": "stdout",
          "text": [
            "2\n",
            "4\n",
            "6\n"
          ]
        }
      ]
    },
    {
      "cell_type": "markdown",
      "source": [
        "# StopIteration Exception:\n",
        "\n",
        "The StopIteration exception is integrated with Python’s iterator protocol. It signals that the iterator has no more items to return. Once this exception is raised, further calls to next() on the same iterator will continue raising StopIteration."
      ],
      "metadata": {
        "id": "6LfYVF7IVyRo"
      }
    },
    {
      "cell_type": "code",
      "source": [
        "li=[100,200,300]\n",
        "it=iter(li)\n",
        "\n",
        "while True:\n",
        "  try:\n",
        "    print(next(it))\n",
        "  except StopIteration:\n",
        "    print(\"End of iteration\")\n",
        "    break\n",
        "\n",
        "\n",
        "\"\"\"\n",
        "In this example, the StopIteration exception is manually handled in the while loop, allowing for custom handling when the iterator is exhausted.\n",
        "\n",
        "\n",
        "\"\"\""
      ],
      "metadata": {
        "colab": {
          "base_uri": "https://localhost:8080/"
        },
        "id": "H9ONmkxeV3Wp",
        "outputId": "9521ed50-01f7-4709-bb30-864b1001e34b"
      },
      "execution_count": 4,
      "outputs": [
        {
          "output_type": "stream",
          "name": "stdout",
          "text": [
            "100\n",
            "200\n",
            "300\n",
            "End of iteration\n"
          ]
        }
      ]
    },
    {
      "cell_type": "markdown",
      "source": [
        "# **Generators in Python**\n",
        "\n",
        "A generator function is a special type of function that returns an iterator object. Instead of using return to send back a single value, generator functions use yield to produce a series of results over time. This allows the function to generate values and pause its execution after each yield, maintaining its state between iterations."
      ],
      "metadata": {
        "id": "OZIhVBeJWrnu"
      }
    },
    {
      "cell_type": "code",
      "source": [
        "# Example:\n",
        "\n",
        "def fun(max):\n",
        "  cnt=1\n",
        "  while cnt<=max:\n",
        "    yield cnt\n",
        "    cnt+=1\n",
        "\n",
        "ctr=fun(10)\n",
        "for n in ctr:\n",
        "  print(n)\n",
        "\n",
        "  \"\"\"\n",
        "  Explanation: This generator function fun yields numbers from 1 up to a specified max.\n",
        "  Each call to next() on the generator object resumes execution right after the yield statement, where it last left off.\n",
        "  \"\"\""
      ],
      "metadata": {
        "colab": {
          "base_uri": "https://localhost:8080/"
        },
        "id": "tgc83em3ZbuJ",
        "outputId": "341853fc-0030-4850-c55e-09e9ffd9725e"
      },
      "execution_count": 7,
      "outputs": [
        {
          "output_type": "stream",
          "name": "stdout",
          "text": [
            "1\n",
            "2\n",
            "3\n",
            "4\n",
            "5\n",
            "6\n",
            "7\n",
            "8\n",
            "9\n",
            "10\n"
          ]
        }
      ]
    },
    {
      "cell_type": "markdown",
      "source": [
        "# Why Do We Need Generators?\n",
        "Memory Efficient : Handle large or infinite data without loading everything into memory.\n",
        "\n",
        "No List Overhead : Yield items one by one, avoiding full list creation.\n",
        "\n",
        "Lazy Evaluation : Compute values only when needed, improving performance.\n",
        "\n",
        "Support Infinite Sequences : Ideal for generating unbounded data like Fibonacci series.\n",
        "\n",
        "Pipeline Processing : Chain generators to process data in stages efficiently.\n",
        "\n",
        "Let's take a deep dive in python generators:\n",
        "\n",
        "# Creating Generators\n",
        "Creating a generator in Python is as simple as defining a function with at least one yield statement. When called, this function doesn’t return a single value; instead, it returns a generator object that supports the iterator protocol. The generator has the following syntax in Python:\n",
        "\n",
        "def generator_function_name(parameters):\n",
        "    # Your code here\n",
        "    yield expression\n",
        "    # Additional code can follow\n"
      ],
      "metadata": {
        "id": "5-6SE51caLxk"
      }
    },
    {
      "cell_type": "code",
      "source": [
        "def fun():\n",
        "  yield 1\n",
        "  yield 2\n",
        "  yield \"khan\"\n",
        "for val in fun():\n",
        "  print(val)"
      ],
      "metadata": {
        "colab": {
          "base_uri": "https://localhost:8080/"
        },
        "id": "84JhnSYTbANf",
        "outputId": "bfa57453-f7b5-4b20-82c7-19e5fd4b8f0a"
      },
      "execution_count": 11,
      "outputs": [
        {
          "output_type": "stream",
          "name": "stdout",
          "text": [
            "1\n",
            "2\n",
            "khan\n"
          ]
        }
      ]
    },
    {
      "cell_type": "markdown",
      "source": [
        "# Yield vs Return\n",
        "Yield: is used in generator functions to provide a sequence of values over time. When yield is executed, it pauses the function, returns the current value and retains the state of the function. This allows the function to continue from same point when called again, making it ideal for generating large or complex sequences efficiently.\n",
        "\n",
        "Return: is used to exit a function and return a final value. Once return is executed, function is terminated immediately and no state is retained. This is suitable for cases where a single result is needed from a function."
      ],
      "metadata": {
        "id": "6VV71UVlbR30"
      }
    },
    {
      "cell_type": "code",
      "source": [
        "#Example with return:\n",
        "def fun():\n",
        "  return 1+2+3+4\n",
        "\n",
        "res=fun()\n",
        "\n",
        "print(res)\n",
        "print(fun())"
      ],
      "metadata": {
        "colab": {
          "base_uri": "https://localhost:8080/"
        },
        "id": "lL8csqlMbj-l",
        "outputId": "f0cd99fa-ef0e-4cb6-e67f-21e67c2e66d0"
      },
      "execution_count": 13,
      "outputs": [
        {
          "output_type": "stream",
          "name": "stdout",
          "text": [
            "10\n",
            "10\n"
          ]
        }
      ]
    },
    {
      "cell_type": "markdown",
      "source": [
        "# Generator Expression\n",
        "Generator expressions are a concise way to create generators. They are similar to list comprehensions but use parentheses instead of square brackets and are more memory efficient.\n",
        "\n",
        "Syntax:\n",
        "\n",
        "(expression for item in iterable)"
      ],
      "metadata": {
        "id": "bHSTlMRIbvBc"
      }
    },
    {
      "cell_type": "code",
      "source": [
        "#Example: We will create a generator object that will print the squares of integers between the range of 1 to 6 (exclusive).\n",
        "\n",
        "sq=(x*x for x in range(1,6))\n",
        "for i in sq:\n",
        "  print(i)"
      ],
      "metadata": {
        "colab": {
          "base_uri": "https://localhost:8080/"
        },
        "id": "D34oNa48b4Il",
        "outputId": "886e8d56-306f-4071-b261-2e7417b7e3a9"
      },
      "execution_count": 15,
      "outputs": [
        {
          "output_type": "stream",
          "name": "stdout",
          "text": [
            "1\n",
            "4\n",
            "9\n",
            "16\n",
            "25\n"
          ]
        }
      ]
    },
    {
      "cell_type": "markdown",
      "source": [
        "# Applications of Generators in Python\n",
        "Suppose we need to create a stream of Fibonacci numbers. Using a generator makes this easy, you just call next() to get the next number without worrying about the stream ending.\n",
        "\n",
        "Generators are especially useful for processing large data files, like logs, because:\n",
        "They handle data in small parts, saving memory\n",
        "They don’t load the entire file at once\n",
        "While iterators can do similar tasks, generators are quicker to write since you don’t need to define __next__ and __iter__ methods manually."
      ],
      "metadata": {
        "id": "SYDtPIkyb3Px"
      }
    }
  ]
}
