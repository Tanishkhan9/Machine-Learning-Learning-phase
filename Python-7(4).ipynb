{
  "nbformat": 4,
  "nbformat_minor": 0,
  "metadata": {
    "colab": {
      "provenance": []
    },
    "kernelspec": {
      "name": "python3",
      "display_name": "Python 3"
    },
    "language_info": {
      "name": "python"
    }
  },
  "cells": [
    {
      "cell_type": "markdown",
      "source": [
        "Python Regex:\n",
        "\n",
        "A Regular Expression or RegEx is a special sequence of characters that uses a search pattern to find a string or set of strings.\n",
        "\n",
        "It can detect the presence or absence of a text by matching it with a particular pattern and also can split a pattern into one or more sub-patterns.\n",
        "\n",
        "Regex Module in Python:\n",
        "\n",
        "Python has a built-in module named \"re\" that is used for regular expressions in Python. We can import this module by using import statement.\n",
        "\n",
        "Importing re module in Python using following command:"
      ],
      "metadata": {
        "id": "MdUyx_DQGzY7"
      }
    },
    {
      "cell_type": "code",
      "execution_count": 1,
      "metadata": {
        "id": "kYApvWwyGqlI"
      },
      "outputs": [],
      "source": [
        "import re"
      ]
    },
    {
      "cell_type": "markdown",
      "source": [
        "How to Use RegEx in Python?\n",
        "You can use RegEx in Python after importing re module.\n",
        "\n",
        "Example:\n",
        "\n",
        "This Python code uses regular expressions to search for the word \"portal\" in the given string and then prints the start and end indices of the matched word within the string."
      ],
      "metadata": {
        "id": "EyQl022wG-Bs"
      }
    },
    {
      "cell_type": "code",
      "source": [
        "import re\n",
        "s='code innovator: A computer Science portal for coders'\n",
        "\n",
        "match=re.search(r\"portal\",s)\n",
        "\n",
        "print(\"starting Index :\",match.start())\n",
        "print(\"Ending Index : \",match.end())\n",
        "\n",
        "#Note: Here r character (r’portal’) stands for raw, not regex.\n",
        "# The raw string is slightly different from a regular string, it won’t interpret the \\ character as an escape character.\n",
        "# This is because the regular expression engine uses \\ character for its own escaping purpose."
      ],
      "metadata": {
        "colab": {
          "base_uri": "https://localhost:8080/"
        },
        "id": "try8duzbHGbU",
        "outputId": "a45521af-3a9b-43be-c840-cc3181cc0f23"
      },
      "execution_count": 2,
      "outputs": [
        {
          "output_type": "stream",
          "name": "stdout",
          "text": [
            "starting Index : 35\n",
            "Ending Index :  41\n"
          ]
        }
      ]
    },
    {
      "cell_type": "markdown",
      "source": [
        "Below are main functions available in the re module:"
      ],
      "metadata": {
        "id": "ypLv60y_HAYl"
      }
    },
    {
      "cell_type": "code",
      "source": [
        "\"\"\"1. re.findall()\n",
        "Returns all non-overlapping matches of a pattern in the string as a list. It scans the string from left to right.\n",
        "\n",
        "Example: This code uses regular expression \\d+ to find all sequences of one or more digits in the given string.\n",
        "\"\"\"\n",
        "\n",
        "import re\n",
        "string = \"\"\"Hello my Number is 123456789 and\n",
        "            my friend's number is 987654321\"\"\"\n",
        "\n",
        "regex = '\\d+'\n",
        "match = re.findall(regex, string)\n",
        "print(match)"
      ],
      "metadata": {
        "colab": {
          "base_uri": "https://localhost:8080/"
        },
        "id": "cDfIQmyjIeSR",
        "outputId": "4b1bcec5-43e0-45ae-a8d1-0bf015b8c31f"
      },
      "execution_count": 7,
      "outputs": [
        {
          "output_type": "stream",
          "name": "stdout",
          "text": [
            "['123456789', '987654321']\n"
          ]
        },
        {
          "output_type": "stream",
          "name": "stderr",
          "text": [
            "<>:4: SyntaxWarning: invalid escape sequence '\\d'\n",
            "<>:11: SyntaxWarning: invalid escape sequence '\\d'\n",
            "<>:4: SyntaxWarning: invalid escape sequence '\\d'\n",
            "<>:11: SyntaxWarning: invalid escape sequence '\\d'\n",
            "/tmp/ipython-input-2428779186.py:4: SyntaxWarning: invalid escape sequence '\\d'\n",
            "  Example: This code uses regular expression \\d+ to find all sequences of one or more digits in the given string.\n",
            "/tmp/ipython-input-2428779186.py:11: SyntaxWarning: invalid escape sequence '\\d'\n",
            "  regex = '\\d+'\n"
          ]
        }
      ]
    },
    {
      "cell_type": "code",
      "source": [
        "\"\"\"\n",
        "2. re.compile()\n",
        "Compiles a regex into a pattern object, which can be reused for matching or substitutions.\n",
        "\n",
        "Example 1: This pattern [a-e] matches all lowercase letters between 'a' and 'e', in the input string \"Aye, said Mr. Gibenson Stark\".\n",
        "The output should be ['e', 'a', 'd', 'b', 'e'], which are matching characters.\n",
        "\"\"\"\n",
        "#Example-1\n",
        "import re\n",
        "\n",
        "p=re.compile('[a-e]')\n",
        "print(p.findall((\"Aye, said Mr. Gibenson Stark\")))"
      ],
      "metadata": {
        "colab": {
          "base_uri": "https://localhost:8080/"
        },
        "id": "KrkvVxZxJSeC",
        "outputId": "b7dc9131-30e0-4c02-9a7d-31bc24f916c4"
      },
      "execution_count": 8,
      "outputs": [
        {
          "output_type": "stream",
          "name": "stdout",
          "text": [
            "['e', 'a', 'd', 'b', 'e', 'a']\n"
          ]
        }
      ]
    },
    {
      "cell_type": "code",
      "source": [
        "\"\"\"\n",
        "Example 2: The code uses regular expressions to find and list all single digits and sequences of digits in the given input strings.\n",
        "It finds single digits with \\d and sequences of digits with \\d+.\n",
        "\"\"\"\n",
        "\n",
        "import re\n",
        "\n",
        "p=re.compile('\\d')\n",
        "print(p.findall(\"I went to him at 11 A.M. on 4th July 1886\"))\n",
        "\n",
        "p=re.compile('\\d+')\n",
        "print(p.findall(\"I went to him at 11 A.M. on 4th July 1886\"))\n",
        "\n",
        "\n",
        "\n",
        "\n"
      ],
      "metadata": {
        "colab": {
          "base_uri": "https://localhost:8080/"
        },
        "id": "jAkHJor_KFDR",
        "outputId": "3c2bb23e-c30a-4dcc-84fc-eee0a949db2b"
      },
      "execution_count": 10,
      "outputs": [
        {
          "output_type": "stream",
          "name": "stdout",
          "text": [
            "['1', '1', '4', '1', '8', '8', '6']\n",
            "['11', '4', '1886']\n"
          ]
        },
        {
          "output_type": "stream",
          "name": "stderr",
          "text": [
            "<>:3: SyntaxWarning: invalid escape sequence '\\d'\n",
            "<>:8: SyntaxWarning: invalid escape sequence '\\d'\n",
            "<>:11: SyntaxWarning: invalid escape sequence '\\d'\n",
            "<>:3: SyntaxWarning: invalid escape sequence '\\d'\n",
            "<>:8: SyntaxWarning: invalid escape sequence '\\d'\n",
            "<>:11: SyntaxWarning: invalid escape sequence '\\d'\n",
            "/tmp/ipython-input-3286183886.py:3: SyntaxWarning: invalid escape sequence '\\d'\n",
            "  It finds single digits with \\d and sequences of digits with \\d+.\n",
            "/tmp/ipython-input-3286183886.py:8: SyntaxWarning: invalid escape sequence '\\d'\n",
            "  p=re.compile('\\d')\n",
            "/tmp/ipython-input-3286183886.py:11: SyntaxWarning: invalid escape sequence '\\d'\n",
            "  p=re.compile('\\d+')\n"
          ]
        }
      ]
    },
    {
      "cell_type": "code",
      "source": [
        "\"\"\"\n",
        "Example 3: Word and non-word characters\n",
        "\n",
        "\\w matches a single word character.\n",
        "\\w+ matches a group of word characters.\n",
        "\\W matches non-word characters.\n",
        "\"\"\"\n",
        "\n",
        "import re\n",
        "\n",
        "p=re.compile('\\w')\n",
        "print(p.findall(\"Myself Khansahab from Rajasthan, the current time is 21:07\"))\n",
        "\n",
        "p=re.compile('\\w+')\n",
        "print(p.findall(\"Myself Khansahab from Rajasthan, the current time is 21:07\"))\n",
        "\n",
        "p=re.compile('\\W')\n",
        "print(p.findall(\"Myself Khansahab from Rajasthan, the current time is 21:07\"))"
      ],
      "metadata": {
        "colab": {
          "base_uri": "https://localhost:8080/"
        },
        "id": "HTHJUNm0K4ul",
        "outputId": "1b29abdf-f7ff-46f7-8654-7871d971eb89"
      },
      "execution_count": 14,
      "outputs": [
        {
          "output_type": "stream",
          "name": "stdout",
          "text": [
            "['M', 'y', 's', 'e', 'l', 'f', 'K', 'h', 'a', 'n', 's', 'a', 'h', 'a', 'b', 'f', 'r', 'o', 'm', 'R', 'a', 'j', 'a', 's', 't', 'h', 'a', 'n', 't', 'h', 'e', 'c', 'u', 'r', 'r', 'e', 'n', 't', 't', 'i', 'm', 'e', 'i', 's', '2', '1', '0', '7']\n",
            "['Myself', 'Khansahab', 'from', 'Rajasthan', 'the', 'current', 'time', 'is', '21', '07']\n",
            "[' ', ' ', ' ', ',', ' ', ' ', ' ', ' ', ' ', ':']\n"
          ]
        },
        {
          "output_type": "stream",
          "name": "stderr",
          "text": [
            "<>:4: SyntaxWarning: invalid escape sequence '\\w'\n",
            "<>:11: SyntaxWarning: invalid escape sequence '\\w'\n",
            "<>:14: SyntaxWarning: invalid escape sequence '\\w'\n",
            "<>:17: SyntaxWarning: invalid escape sequence '\\W'\n",
            "<>:4: SyntaxWarning: invalid escape sequence '\\w'\n",
            "<>:11: SyntaxWarning: invalid escape sequence '\\w'\n",
            "<>:14: SyntaxWarning: invalid escape sequence '\\w'\n",
            "<>:17: SyntaxWarning: invalid escape sequence '\\W'\n",
            "/tmp/ipython-input-1085004925.py:4: SyntaxWarning: invalid escape sequence '\\w'\n",
            "  \\w matches a single word character.\n",
            "/tmp/ipython-input-1085004925.py:11: SyntaxWarning: invalid escape sequence '\\w'\n",
            "  p=re.compile('\\w')\n",
            "/tmp/ipython-input-1085004925.py:14: SyntaxWarning: invalid escape sequence '\\w'\n",
            "  p=re.compile('\\w+')\n",
            "/tmp/ipython-input-1085004925.py:17: SyntaxWarning: invalid escape sequence '\\W'\n",
            "  p=re.compile('\\W')\n"
          ]
        }
      ]
    },
    {
      "cell_type": "code",
      "source": [
        "import re\n",
        "\n",
        "p=re.compile('ab*')\n",
        "print(p.findall(\"abaabbaaababababb\"))\n",
        "\n",
        "\n",
        "\"\"\"Example 4: The regular expression pattern 'ab*' to find and list all occurrences of 'ab' followed by zero or more 'b' characters.\n",
        "In the input string \"ababbaabbb\". It returns the following list of matches: ['ab', 'abb', 'abbb'].\n",
        "\"\"\""
      ],
      "metadata": {
        "colab": {
          "base_uri": "https://localhost:8080/"
        },
        "id": "ehMOXBCPL8oC",
        "outputId": "68da3e7f-81c9-4f4f-b4c7-74db020ef138"
      },
      "execution_count": 15,
      "outputs": [
        {
          "output_type": "stream",
          "name": "stdout",
          "text": [
            "['ab', 'a', 'abb', 'a', 'a', 'ab', 'ab', 'ab', 'abb']\n"
          ]
        }
      ]
    },
    {
      "cell_type": "markdown",
      "source": [
        "3. re.split() :\n",
        "Splits a string wherever the pattern matches. The remaining characters are returned as list elements.\n",
        "\n",
        "Syntax:\n",
        "\n",
        "re.split(pattern, string, maxsplit=0, flags=0)\n",
        "\n",
        "pattern: Regular expression to match split points.\n",
        "string: The input string to split.\n",
        "maxsplit (optional): Limits the number of splits. Default is 0 (no limit).\n",
        "flags (optional): Apply regex flags like re.IGNORECASE."
      ],
      "metadata": {
        "id": "vyGc7TOSL1rv"
      }
    },
    {
      "cell_type": "code",
      "source": [
        "\"\"\"\n",
        "Example 1: Splitting by non-word characters or digits\n",
        "\n",
        "This example demonstrates how to split a string using different patterns like non-word characters (\\W+), apostrophes, and digits (\\d+).\n",
        "\n",
        "\"\"\"\n",
        "from re import split\n",
        "\n",
        "print(split('\\W+', 'Words, words , Words'))\n",
        "print(split('\\W+', \"Word's words Words\"))\n",
        "print(split('\\W+', 'On 12th Jan 2016, at 11:02 AM'))\n",
        "print(split('\\d+', 'On 12th Jan 2016, at 11:02 AM'))"
      ],
      "metadata": {
        "colab": {
          "base_uri": "https://localhost:8080/"
        },
        "id": "HLQS9gLuL2ET",
        "outputId": "ace0b3b8-e7a3-4e1e-a75b-1849671cfef4"
      },
      "execution_count": 16,
      "outputs": [
        {
          "output_type": "stream",
          "name": "stdout",
          "text": [
            "['Words', 'words', 'Words']\n",
            "['Word', 's', 'words', 'Words']\n",
            "['On', '12th', 'Jan', '2016', 'at', '11', '02', 'AM']\n",
            "['On ', 'th Jan ', ', at ', ':', ' AM']\n"
          ]
        },
        {
          "output_type": "stream",
          "name": "stderr",
          "text": [
            "<>:3: SyntaxWarning: invalid escape sequence '\\W'\n",
            "<>:4: SyntaxWarning: invalid escape sequence '\\W'\n",
            "<>:5: SyntaxWarning: invalid escape sequence '\\W'\n",
            "<>:6: SyntaxWarning: invalid escape sequence '\\d'\n",
            "<>:3: SyntaxWarning: invalid escape sequence '\\W'\n",
            "<>:4: SyntaxWarning: invalid escape sequence '\\W'\n",
            "<>:5: SyntaxWarning: invalid escape sequence '\\W'\n",
            "<>:6: SyntaxWarning: invalid escape sequence '\\d'\n",
            "/tmp/ipython-input-3103990465.py:3: SyntaxWarning: invalid escape sequence '\\W'\n",
            "  print(split('\\W+', 'Words, words , Words'))\n",
            "/tmp/ipython-input-3103990465.py:4: SyntaxWarning: invalid escape sequence '\\W'\n",
            "  print(split('\\W+', \"Word's words Words\"))\n",
            "/tmp/ipython-input-3103990465.py:5: SyntaxWarning: invalid escape sequence '\\W'\n",
            "  print(split('\\W+', 'On 12th Jan 2016, at 11:02 AM'))\n",
            "/tmp/ipython-input-3103990465.py:6: SyntaxWarning: invalid escape sequence '\\d'\n",
            "  print(split('\\d+', 'On 12th Jan 2016, at 11:02 AM'))\n"
          ]
        }
      ]
    },
    {
      "cell_type": "code",
      "source": [
        "\"\"\"\n",
        "Example 2: Using maxsplit and flags\n",
        "\n",
        "This example shows how to limit the number of splits using maxsplit, and how flags can control case sensitivity.\n",
        "\"\"\"\n",
        "\n",
        "import re\n",
        "\n",
        "print(split('[a-z]',\"Words , words ,Words\"))\n",
        "print(split('[a-f]+',\"Wor's words Words\",flags=re.IGNORECASE))\n",
        "print(split('[a-e]',\"on 12th jan 2016, at 11:02 AM\"))\n",
        "print(split('\\d+',\"on 12th Jan 2016, at 11:02 AM\",1))"
      ],
      "metadata": {
        "colab": {
          "base_uri": "https://localhost:8080/"
        },
        "id": "pY-YH1lCOn2g",
        "outputId": "ea71a6c9-8046-4fa9-9c5d-5a50ab505f23"
      },
      "execution_count": 23,
      "outputs": [
        {
          "output_type": "stream",
          "name": "stdout",
          "text": [
            "['W', '', '', '', ' , ', '', '', '', '', ' ,W', '', '', '', '']\n",
            "[\"Wor's wor\", 's Wor', 's']\n",
            "['on 12th j', 'n 2016, ', 't 11:02 AM']\n",
            "['on ', 'th Jan 2016, at 11:02 AM']\n"
          ]
        },
        {
          "output_type": "stream",
          "name": "stderr",
          "text": [
            "<>:12: SyntaxWarning: invalid escape sequence '\\d'\n",
            "<>:12: SyntaxWarning: invalid escape sequence '\\d'\n",
            "/tmp/ipython-input-3625058424.py:12: SyntaxWarning: invalid escape sequence '\\d'\n",
            "  print(split('\\d+',\"on 12th Jan 2016, at 11:02 AM\",1))\n"
          ]
        }
      ]
    },
    {
      "cell_type": "markdown",
      "source": [
        "4. re.sub()\n",
        "\n",
        "The re.sub() function replaces all occurrences of a pattern in a string with a replacement string.\n",
        "\n",
        "Syntax:\n",
        "\n",
        "\n",
        "\n",
        "re.sub(pattern, repl, string, count=0, flags=0)\n",
        "\n",
        "\n",
        "\n",
        "\n",
        "pattern: The regex pattern to search for.\n",
        "\n",
        "repl: The string to replace matches with.\n",
        "\n",
        "string: The input string to process.\n",
        "\n",
        "count (optional): Maximum number of substitutions (default is 0, which means replace all).\n",
        "\n",
        "flags (optional): Regex flags like re.IGNORECASE.\n"
      ],
      "metadata": {
        "id": "xnVhPRCKQA5T"
      }
    },
    {
      "cell_type": "code",
      "source": [
        "\"\"\"\n",
        "Example 1: The following examples show different ways to replace the pattern 'ub' with '~*', using various flags and count values.\n",
        "\"\"\"\n",
        "\n",
        "import re\n",
        "\n",
        "# Case-insensitive replacement of all 'ub'\n",
        "print(re.sub('ub', '~*', 'Subject has Uber booked already', flags=re.IGNORECASE))\n",
        "\n",
        "# Case-sensitive replacement of all 'ub'\n",
        "print(re.sub('ub', '~*', 'Subject has Uber booked already'))\n",
        "\n",
        "# Replace only the first 'ub', case-insensitive\n",
        "print(re.sub('ub', '~*', 'Subject has Uber booked already', count=1, flags=re.IGNORECASE))\n",
        "\n",
        "# Replace \"AND\" with \"&\", ignoring case\n",
        "print(re.sub(r'\\sAND\\s', ' & ', 'Baked Beans And Spam', flags=re.IGNORECASE))"
      ],
      "metadata": {
        "colab": {
          "base_uri": "https://localhost:8080/"
        },
        "id": "baipzwmDPzgD",
        "outputId": "2057e9d1-55cd-4821-d191-aeff3e92af0b"
      },
      "execution_count": 24,
      "outputs": [
        {
          "output_type": "stream",
          "name": "stdout",
          "text": [
            "S~*ject has ~*er booked already\n",
            "S~*ject has Uber booked already\n",
            "S~*ject has Uber booked already\n",
            "Baked Beans & Spam\n"
          ]
        }
      ]
    },
    {
      "cell_type": "markdown",
      "source": [
        "5. re.subn()\n",
        "\n",
        "re.subn() function works just like re.sub(), but instead of returning only the modified string, it returns a tuple: (new_string, number_of_substitutions)\n",
        "\n",
        "Syntax:\n",
        "\n",
        " re.subn(pattern, repl, string, count=0, flags=0)"
      ],
      "metadata": {
        "id": "PLRDmUmlQM7r"
      }
    },
    {
      "cell_type": "code",
      "source": [
        "\"\"\"\n",
        "Example: Substitution with count\n",
        "\n",
        "This example shows how re.subn() gives both the replaced string and the number of times replacements were made.\n",
        "\"\"\"\n",
        "\n",
        "import re\n",
        "\n",
        "# Case-sensitive replacement\n",
        "print(re.subn('ub', '~*', 'Subject has Uber booked already'))\n",
        "\n",
        "# Case-insensitive replacement\n",
        "t = re.subn('ub', '~*', 'Subject has Uber booked already', flags=re.IGNORECASE)\n",
        "print(t)\n",
        "print(len(t))      # tuple length\n",
        "print(t[0])        # modified string"
      ],
      "metadata": {
        "colab": {
          "base_uri": "https://localhost:8080/"
        },
        "id": "WAWq2991Qv4l",
        "outputId": "fd9c3ac5-e1b9-43a8-db98-a7c2597072f9"
      },
      "execution_count": 25,
      "outputs": [
        {
          "output_type": "stream",
          "name": "stdout",
          "text": [
            "('S~*ject has Uber booked already', 1)\n",
            "('S~*ject has ~*er booked already', 2)\n",
            "2\n",
            "S~*ject has ~*er booked already\n"
          ]
        }
      ]
    },
    {
      "cell_type": "markdown",
      "source": [
        "6. re.escape()\n",
        "\n",
        "re.escape() function adds a backslash (\\) before all special characters in a string. This is useful when you want to match a string literally, including any characters that have special meaning in regex (like ., *, [, ], etc.).\n",
        "\n",
        "Syntax:\n",
        "\n",
        "re.escape(string)"
      ],
      "metadata": {
        "id": "33YI21OgQ_Bp"
      }
    },
    {
      "cell_type": "code",
      "source": [
        "\"\"\"\n",
        "Example: Escaping special characters\n",
        "\n",
        "This example shows how re.escape() treats spaces, brackets, dashes, and tabs as literal characters.\n",
        "\"\"\"\n",
        "import re\n",
        "print(re.escape(\"This is Awesome even 1 AM\"))\n",
        "print(re.escape(\"I Asked what is this [a-9], he said \\t ^WoW\"))"
      ],
      "metadata": {
        "colab": {
          "base_uri": "https://localhost:8080/"
        },
        "id": "RFHnQz16RCXI",
        "outputId": "0e27007e-52de-4a95-e894-3e10bf8c267a"
      },
      "execution_count": 26,
      "outputs": [
        {
          "output_type": "stream",
          "name": "stdout",
          "text": [
            "This\\ is\\ Awesome\\ even\\ 1\\ AM\n",
            "I\\ Asked\\ what\\ is\\ this\\ \\[a\\-9\\],\\ he\\ said\\ \\\t\\ \\^WoW\n"
          ]
        }
      ]
    },
    {
      "cell_type": "markdown",
      "source": [
        "7. re.search()\n",
        "\n",
        "The re.search() function searches for the first occurrence of a pattern in a string. It returns a match object if found, otherwise None.\n",
        "\n",
        "Note: Use it when you want to check if a pattern exists or extract the first match.\n",
        "\n",
        "Example: Search and extract values\n",
        "\n",
        "This example searches for a date pattern with a month name (letters) followed by a day (digits) in a sentence."
      ],
      "metadata": {
        "id": "0NlbZi1gRNCy"
      }
    },
    {
      "cell_type": "code",
      "source": [
        "import re\n",
        "\n",
        "regex = r\"([a-zA-Z]+) (\\d+)\"\n",
        "match = re.search(regex, \"I was born on June 24\")\n",
        "\n",
        "if match:\n",
        "    print(\"Match at index %s, %s\" % (match.start(), match.end()))\n",
        "    print(\"Full match:\", match.group(0))\n",
        "    print(\"Month:\", match.group(1))\n",
        "    print(\"Day:\", match.group(2))\n",
        "else:\n",
        "    print(\"The regex pattern does not match.\")"
      ],
      "metadata": {
        "colab": {
          "base_uri": "https://localhost:8080/"
        },
        "id": "RTmPpQACRRXZ",
        "outputId": "9c4da64e-6500-4ed9-9efc-dea1e197bd79"
      },
      "execution_count": 27,
      "outputs": [
        {
          "output_type": "stream",
          "name": "stdout",
          "text": [
            "Match at index 14, 21\n",
            "Full match: June 24\n",
            "Month: June\n",
            "Day: 24\n"
          ]
        }
      ]
    }
  ]
}
