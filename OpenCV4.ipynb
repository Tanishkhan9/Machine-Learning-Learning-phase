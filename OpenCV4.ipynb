{
  "nbformat": 4,
  "nbformat_minor": 0,
  "metadata": {
    "colab": {
      "provenance": []
    },
    "kernelspec": {
      "name": "python3",
      "display_name": "Python 3"
    },
    "language_info": {
      "name": "python"
    }
  },
  "cells": [
    {
      "cell_type": "markdown",
      "source": [
        "To use WebCam\n"
      ],
      "metadata": {
        "id": "YeSBs2DWc1NX"
      }
    },
    {
      "cell_type": "code",
      "execution_count": null,
      "metadata": {
        "id": "R_c1RsUUcyLx"
      },
      "outputs": [],
      "source": [
        "import cv2  # Import OpenCV library\n",
        "\n",
        "cap = cv2.VideoCapture(0)  # Open the default webcam\n",
        "\n",
        "while True:\n",
        "    ret, frame = cap.read()  # Read a frame from the webcam\n",
        "\n",
        "    if not ret:  # Check if frame was read successfully\n",
        "        print(\"Error: Could not read frame\")\n",
        "        break\n",
        "\n",
        "    cv2.imshow(\"Video Feed\", frame)  # Display the video frame\n",
        "\n",
        "    if cv2.waitKey(1) & 0xFF == ord('q'):  # Exit on 'q' key press\n",
        "        print(\"Exiting video feed\")\n",
        "        break\n",
        "\n",
        "cap.release()  # Release the webcam\n",
        "cv2.destroyAllWindows()  # Close all OpenCV windows\n"
      ]
    },
    {
      "cell_type": "code",
      "source": [
        "import cv2  # Import OpenCV library\n",
        "\n",
        "capture = cv2.VideoCapture(0)  # Open webcam\n",
        "\n",
        "# Get frame width and height from the capture device\n",
        "frame_width = int(capture.get(cv2.CAP_PROP_FRAME_WIDTH))\n",
        "frame_height = int(capture.get(cv2.CAP_PROP_FRAME_HEIGHT))\n",
        "\n",
        "# Define the codec and create VideoWriter object\n",
        "codeCompression = cv2.VideoWriter_fourcc(*'Xvid')\n",
        "Recorder = cv2.VideoWriter(\"Output.avi\", codeCompression, 20.0, (frame_width, frame_height))\n",
        "\n",
        "while True:\n",
        "    success, image = capture.read()  # Read a frame from the webcam\n",
        "\n",
        "    if not success:\n",
        "        print(\"Error: Could not read frame\")\n",
        "        break\n",
        "    Recorder.write(image)  # Write the frame to the output file\n",
        "    cv2.imshow(\"Video Feed\", image)  # Display the frame\n",
        "\n",
        "    if cv2.waitKey(1) & 0xFF == ord('q'):  # Exit on 'q' key press\n",
        "        break\n",
        "\n",
        "capture.release()  # Release webcam\n",
        "Recorder.release()  # Release video writer\n",
        "cv2.destroyAllWindows()  # Close all OpenCV windows\n"
      ],
      "metadata": {
        "id": "vBvufoPxjAoI"
      },
      "execution_count": null,
      "outputs": []
    },
    {
      "cell_type": "code",
      "source": [
        "import cv2  # Import OpenCV\n",
        "\n",
        "image = cv2.imread(\"F:/project/tests/al.jpg\")  # Load image\n",
        "\n",
        "blurred = cv2.GaussianBlur(image, (7, 7), 0)  # Apply Gaussian blur\n",
        "\n",
        "cv2.imshow(\"Original Image\", image)      # Show original image\n",
        "cv2.imshow(\"Blurred Image\", blurred)     # Show blurred image\n",
        "\n",
        "cv2.waitKey(0)          # Wait for key press\n",
        "cv2.destroyAllWindows() # Close all windows\n"
      ],
      "metadata": {
        "id": "L9upNMzyw8VH"
      },
      "execution_count": null,
      "outputs": []
    },
    {
      "cell_type": "code",
      "source": [
        "import cv2  # Import OpenCV library\n",
        "\n",
        "image = cv2.imread(\"F:/project/tests/al.jpg\")  # Load the image\n",
        "\n",
        "blurred = cv2.medianBlur(image, 5)  # Apply median blur filter\n",
        "\n",
        "cv2.imshow(\"blurred image\", blurred)  # Display the blurred image\n",
        "\n",
        "cv2.waitKey(0)  # Wait for any key press\n",
        "cv2.destroyAllWindows()  # Close all OpenCV windows\n"
      ],
      "metadata": {
        "id": "FMcJoESqyj02"
      },
      "execution_count": null,
      "outputs": []
    },
    {
      "cell_type": "code",
      "source": [
        "import cv2  # Import OpenCV\n",
        "import numpy as np  # Import NumPy\n",
        "\n",
        "sharpen_kernel = np.array([\n",
        "    [0, -1, 0],\n",
        "    [-1, 7, -1],\n",
        "    [0, -1, 0]\n",
        "])  # Define sharpening kernel\n",
        "\n",
        "image = cv2.imread(\"F:/project/tests/al.jpg\")  # Load image\n",
        "\n",
        "filtered = cv2.filter2D(image, -1, sharpen_kernel)  # Apply sharpening filter\n",
        "\n",
        "cv2.imshow(\"filtered image\", filtered)   # Show filtered image\n",
        "cv2.imshow(\"Original Image\", image)      # Show original image\n",
        "\n",
        "cv2.waitKey(0)           # Wait for key press\n",
        "cv2.destroyAllWindows()  # Close all windows\n"
      ],
      "metadata": {
        "id": "jchYpDj11GpS"
      },
      "execution_count": null,
      "outputs": []
    },
    {
      "cell_type": "code",
      "source": [
        "import cv2  # Import OpenCV library\n",
        "\n",
        "# Load image in grayscale\n",
        "image = cv2.imread(\"F:/project/tests/al.jpg\", cv2.IMREAD_GRAYSCALE)\n",
        "\n",
        "can = cv2.Canny(image, 50, 150)  # Apply Canny edge detection\n",
        "\n",
        "cv2.imshow(\"Grayscale Image\", image)       # Show grayscale image\n",
        "cv2.imshow(\"Canny Edge Detection\", can)    # Show detected edges\n",
        "\n",
        "cv2.waitKey(0)           # Wait for any key press\n",
        "cv2.destroyAllWindows()  # Close all windows\n"
      ],
      "metadata": {
        "id": "pdARJQcD_6U_"
      },
      "execution_count": null,
      "outputs": []
    },
    {
      "cell_type": "code",
      "source": [
        "import cv2  # Import OpenCV library\n",
        "\n",
        "# Load image in grayscale\n",
        "image = cv2.imread(\"F:/project/tests/al.jpg\", cv2.IMREAD_GRAYSCALE)\n",
        "\n",
        "# Apply binary thresholding\n",
        "ret, thresh_img = cv2.threshold(image, 120, 255, cv2.THRESH_BINARY)\n",
        "\n",
        "cv2.imshow(\"Grayscale Image\", image)       # Show original grayscale image\n",
        "cv2.imshow(\"Thresholded Image\", thresh_img) # Show binary thresholded image\n",
        "\n",
        "cv2.waitKey(0)           # Wait for any key press\n",
        "cv2.destroyAllWindows()  # Close all windows\n"
      ],
      "metadata": {
        "id": "UJg9HeKpBNna"
      },
      "execution_count": null,
      "outputs": []
    },
    {
      "cell_type": "code",
      "source": [
        "import cv2  # Import OpenCV library\n",
        "import numpy as np  # Import NumPy for numerical operations\n",
        "\n",
        "# Create a 300x300 black image (uint8 datatype for pixel values)\n",
        "img1 = np.zeros((300, 300), dtype=\"uint8\")\n",
        "img2 = np.zeros((300, 300), dtype=\"uint8\")\n",
        "\n",
        "# Draw a white circle on img1 (255 is white, -1 fills the shape)\n",
        "cv2.circle(img1, (100, 100), 100, 255, -1)\n",
        "# Draw a white rectangle on img2 (255 is white, -1 fills the shape)\n",
        "cv2.rectangle(img2, (50, 50), (250, 250), 255, -1)\n",
        "\n",
        "# Perform bitwise AND operation on img1 and img2\n",
        "bitwise_and = cv2.bitwise_and(img1, img2)\n",
        "# Perform bitwise OR operation on img1 and img2\n",
        "bitwise_or = cv2.bitwise_or(img1, img2)\n",
        "# Perform bitwise NOT operation on img1 (inverts colors)\n",
        "bitwise_not = cv2.bitwise_not(img1)\n",
        "\n",
        "cv2.imshow(\"Image 1\", img1)  # Display the first image (circle)\n",
        "cv2.imshow(\"Image 2\", img2)  # Display the second image (rectangle)\n",
        "cv2.imshow(\"Bitwise AND\", bitwise_and)  # Display result of AND operation (intersection)\n",
        "cv2.imshow(\"Bitwise OR\", bitwise_or)    # Display result of OR operation (union)\n",
        "cv2.imshow(\"Bitwise NOT\", bitwise_not)  # Display result of NOT operation (inverted circle)\n",
        "\n",
        "cv2.waitKey(0)  # Wait indefinitely for a key press\n",
        "cv2.destroyAllWindows()  # Close all OpenCV display windows\n"
      ],
      "metadata": {
        "id": "OigHVg1JEKuj"
      },
      "execution_count": null,
      "outputs": []
    }
  ]
}