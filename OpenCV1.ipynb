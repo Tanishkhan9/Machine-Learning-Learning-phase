{
  "nbformat": 4,
  "nbformat_minor": 0,
  "metadata": {
    "colab": {
      "provenance": []
    },
    "kernelspec": {
      "name": "python3",
      "display_name": "Python 3"
    },
    "language_info": {
      "name": "python"
    }
  },
  "cells": [
    {
      "cell_type": "code",
      "metadata": {
        "colab": {
          "base_uri": "https://localhost:8080/"
        },
        "id": "8bf5c0d2",
        "outputId": "a7a6ee9d-8cd7-44bd-dd47-479001f39c03"
      },
      "source": [
        "# Import the OpenCV library which provides computer vision functions\n",
        "import cv2\n",
        "\n",
        "# Read and load an image from the specified file path\n",
        "# imread() returns an image as a NumPy array if successful, or None if the image can't be read\n",
        "image = cv2.imread('/content/man.webp')\n",
        "\n",
        "# Check if the image was loaded successfully\n",
        "if image is None:\n",
        "  # Display error message if image couldn't be loaded (path not found, format not supported, etc.)\n",
        "  print(\"Image not found\")\n",
        "else:\n",
        "  # Confirm successful image loading\n",
        "  print(\"image loaded\")\n"
      ],
      "execution_count": null,
      "outputs": [
        {
          "output_type": "stream",
          "name": "stdout",
          "text": [
            "image loaded\n"
          ]
        }
      ]
    },
    {
      "cell_type": "code",
      "source": [
        "# Import the OpenCV library, which provides tools for image and video processing.\n",
        "import cv2\n",
        "\n",
        "# Use the cv2.imread() function to load an image from the specified file path.\n",
        "# - 'F:/project/tests/al.jpg' is the path to the image file.\n",
        "# - This function returns a NumPy array containing the image data if successful.\n",
        "# - If the file does not exist or the path is incorrect, it returns None.\n",
        "image = cv2.imread('F:/project/tests/al.jpg')\n",
        "\n",
        "# Check if the 'image' variable contains data (i.e., the image was loaded successfully).\n",
        "# This 'if' block will only execute if cv2.imread() did not return None.\n",
        "if image is not None:\n",
        "  # cv2.imshow() displays the image in a new window.\n",
        "  # - The first argument, \"Image\", is the title of the window.\n",
        "  # - The second argument, 'image', is the image data to be displayed.\n",
        "  cv2.imshow(\"Image\", image)\n",
        "\n",
        "  # cv2.waitKey(0) is a crucial function that waits for a key press.\n",
        "  # - The argument '0' means it will wait indefinitely until any key is pressed.\n",
        "  # - Without this line, the window would appear and close instantly, and you wouldn't see the image.\n",
        "  cv2.waitKey(0)\n",
        "\n",
        "  # cv2.destroyAllWindows() closes all the windows created by OpenCV.\n",
        "  # This function is called after the user presses a key, ensuring a clean exit.\n",
        "  cv2.destroyAllWindows()\n",
        "else:\n",
        "  # This 'else' block executes if 'image' is None, meaning the image failed to load.\n",
        "  # It prints an error message to the console to inform the user.\n",
        "  print(\"Error: Image not found or could not be loaded.\")\n"
      ],
      "metadata": {
        "colab": {
          "base_uri": "https://localhost:8080/"
        },
        "id": "fpG1sfeGobc2",
        "outputId": "36888934-8101-47e2-e3dc-00023481f327"
      },
      "execution_count": null,
      "outputs": [
        {
          "output_type": "stream",
          "name": "stdout",
          "text": [
            "Error\n"
          ]
        }
      ]
    },
    {
      "cell_type": "code",
      "source": [
        "# Import the OpenCV library\n",
        "import cv2\n",
        "\n",
        "# Read the image from the specified file path\n",
        "image = cv2.imread(\"F:/project/tests/al.jpg\")\n",
        "\n",
        "# Check if the image was loaded successfully\n",
        "if image is not None:\n",
        "  # Get image dimensions (height, width, channels) from its .shape attribute\n",
        "  h, w, c = image.shape\n",
        "  # Print the extracted dimensions\n",
        "  print(f\"Image Dimensions are Height: {h} , Width: {w} , and Channels: {c}\")\n",
        "else:\n",
        "  # Print an error if the image could not be found or loaded\n",
        "  print(\"Error: Image not found\")\n"
      ],
      "metadata": {
        "colab": {
          "base_uri": "https://localhost:8080/"
        },
        "id": "sChagZ47u7ne",
        "outputId": "924ed838-2e22-49ce-9818-a4eb55baf709"
      },
      "execution_count": null,
      "outputs": [
        {
          "output_type": "stream",
          "name": "stdout",
          "text": [
            "error : image could not be saved\n"
          ]
        }
      ]
    },
    {
      "cell_type": "code",
      "source": [
        "# Import OpenCV library for image processing\n",
        "import cv2\n",
        "\n",
        "# Read an image from the specified file path\n",
        "image = cv2.imread(\"F:/project/tests/al.jpg\")\n",
        "\n",
        "# Check if image was loaded successfully\n",
        "if image is not None:\n",
        "  # Extract height, width, and color channels from image shape\n",
        "  h, w, c = image.shape\n",
        "\n",
        "  # Display the dimensions of the image with formatted string\n",
        "  print(f\"Image Dimensions are Height: {h} , Width: {w} , and Channels: {c}\")\n",
        "else:\n",
        "  # Inform user if image couldn't be loaded\n",
        "  print(\"Error: Image not found\")\n"
      ],
      "metadata": {
        "colab": {
          "base_uri": "https://localhost:8080/"
        },
        "id": "D2hhCImdv_eb",
        "outputId": "657cbe73-2da4-4cca-d408-d344efc6cd88"
      },
      "execution_count": null,
      "outputs": [
        {
          "output_type": "stream",
          "name": "stdout",
          "text": [
            "Error: Image not found\n"
          ]
        }
      ]
    },
    {
      "cell_type": "code",
      "source": [
        "Here is the code with small, concise comments explaining each part:\n",
        "\n",
        "```python\n",
        "# Import the OpenCV library\n",
        "import cv2\n",
        "\n",
        "# Read the image from the specified file path\n",
        "image = cv2.imread(\"F:/project/tests/al.jpg\")\n",
        "\n",
        "# Check if the image was loaded successfully\n",
        "if image is not None:\n",
        "    # Convert image to grayscale (but not storing the result)\n",
        "    cv2.cvtColor(image, cv2.COLOR_BGR2GRAY)\n",
        "\n",
        "    # Display the grayscale image in a window\n",
        "    # Note: We're converting to grayscale again since the previous result wasn't stored\n",
        "    cv2.imshow(\"Grayscale Image\", cv2.cvtColor(image, cv2.COLOR_BGR2GRAY))\n",
        "\n",
        "    # Wait for any key press (0 means wait indefinitely)\n",
        "    cv2.waitKey(0)\n",
        "\n",
        "    # Close all OpenCV windows\n",
        "    cv2.destroyAllWindows()\n",
        "else:\n",
        "    # Print an error if the image could not be found or loaded\n",
        "    print(\"Error: Image not found\")\n",
        "```"
      ],
      "metadata": {
        "colab": {
          "base_uri": "https://localhost:8080/"
        },
        "id": "6jn1Y81Oyyyg",
        "outputId": "6734c2da-4617-4166-fcf6-d3ff761a0143"
      },
      "execution_count": null,
      "outputs": [
        {
          "output_type": "stream",
          "name": "stdout",
          "text": [
            "Error: Image not found\n"
          ]
        }
      ]
    },
    {
      "cell_type": "code",
      "source": [
        "# Import the OpenCV library\n",
        "import cv2\n",
        "\n",
        "# Read the image from the specified file path\n",
        "image = cv2.imread(\"F:/project/tests/al.jpg\")\n",
        "\n",
        "# Check if the image was loaded successfully\n",
        "if image is not None:\n",
        "    # Convert the color image to grayscale and store it in the 'gray' variable\n",
        "    gray = cv.cvtColor(image, cv.COLOR_BGR2GRAY)\n",
        "\n",
        "    # Display the grayscale image in a window titled \"Grayscale Image\"\n",
        "    cv2.imshow(\"Grayscale Image\", gray)\n",
        "\n",
        "    # Wait indefinitely for a key press from the user\n",
        "    cv2.waitKey(0)\n",
        "\n",
        "    # Close all open OpenCV windows\n",
        "    cv2.destroyAllWindows()\n",
        "else:\n",
        "    # Print an error message if the image could not be loaded\n",
        "    print(\"Error: Image not found\")\n"
      ],
      "metadata": {
        "colab": {
          "base_uri": "https://localhost:8080/"
        },
        "id": "RXKieTsky1wQ",
        "outputId": "f878e855-5f78-4153-f909-8af11fb87e3f"
      },
      "execution_count": null,
      "outputs": [
        {
          "output_type": "stream",
          "name": "stdout",
          "text": [
            "Error: Image not found\n"
          ]
        }
      ]
    },
    {
      "cell_type": "code",
      "source": [
        "# Import the OpenCV library\n",
        "import cv2\n",
        "\n",
        "# Read the image from the specified file path\n",
        "image = cv2.imread(\"F:/project/tests/al.jpg\")\n",
        "\n",
        "# Check if the image was loaded successfully\n",
        "if image is not None:\n",
        "    # Convert the color image to grayscale and store it\n",
        "    gray = cv2.cvtColor(image, cv2.COLOR_BGR2GRAY)\n",
        "else:\n",
        "    # Print an error if the image could not be found\n",
        "    print(\"Error: Image not found\")\n",
        "\n",
        "# Save the grayscale image to a file named \"BLACK AND WHITE.jpg\"\n",
        "# Note: This line will cause an error if the image was not found\n",
        "cv2.imwrite(\"BLACK AND WHITE.jpg\", gray)\n",
        "\n",
        "# Display the grayscale image in a window\n",
        "cv2.imshow(\"Grayscale Image\", gray)\n",
        "\n",
        "# Wait indefinitely for a key press\n",
        "cv2.waitKey(0)\n",
        "\n",
        "# Close all open OpenCV windows\n",
        "cv2.destroyAllWindows()\n"
      ],
      "metadata": {
        "id": "atK3qg6uze4Z"
      },
      "execution_count": null,
      "outputs": []
    },
    {
      "cell_type": "code",
      "source": [
        "# Import the OpenCV library\n",
        "import cv2\n",
        "\n",
        "# Prompt the user to enter the full path to an image\n",
        "image_location = input(\"Enter the image location: \")\n",
        "\n",
        "# Read the image from the path provided by the user\n",
        "image = cv2.imread(image_location)\n",
        "\n",
        "# Check if the image was loaded successfully\n",
        "if image is not None:\n",
        "    # If successful, convert the color image to grayscale\n",
        "    gray = cv2.cvtColor(image, cv2.COLOR_BGR2GRAY)\n",
        "else:\n",
        "    # If the image failed to load, print an error message\n",
        "    print(\"Error: Image not found\")\n",
        "\n",
        "# Ask the user if they want to save or display the result\n",
        "choice = input(\"Do you want to save or display the image? (save/display):\")\n",
        "\n",
        "# Check the user's choice (making it lowercase for consistency)\n",
        "if choice.lower() == \"save\":\n",
        "    # If they chose 'save', write the grayscale image to a new file\n",
        "    # Note: This line will cause an error if the original image was not found\n",
        "    cv2.imwrite(\"BLACK AND WHITE.jpg\", gray)\n",
        "else:\n",
        "    # If they chose anything else, display the image\n",
        "    cv2.imshow(\"Grayscale Image\", gray)\n",
        "    # Wait for the user to press any key\n",
        "    cv2.waitKey(0)\n",
        "    # Close all OpenCV windows\n",
        "    cv2.destroyAllWindows()\n"
      ],
      "metadata": {
        "id": "qP1YkGfA03pW"
      },
      "execution_count": null,
      "outputs": []
    }
  ]
}